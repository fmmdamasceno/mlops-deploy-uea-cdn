{
 "cells": [
  {
   "cell_type": "markdown",
   "id": "3cfb20cc-368e-4337-b401-a0b90ef63aad",
   "metadata": {},
   "source": [
    "### Importações de bibliotecas"
   ]
  },
  {
   "cell_type": "code",
   "execution_count": 2,
   "id": "bf321af0-ff6c-49e8-9fe4-e47de1002c53",
   "metadata": {},
   "outputs": [],
   "source": [
    "import numpy as np\n",
    "import pandas as pd\n",
    "from datetime import datetime\n",
    "\n",
    "import matplotlib.pyplot as plt\n",
    "\n",
    "from plots import plot_distribution, plot_both_distributions\n",
    "from psi import create_psi_table, psi, psi_interpretation\n",
    "\n",
    "import warnings\n",
    "warnings.filterwarnings(\"ignore\")"
   ]
  },
  {
   "cell_type": "markdown",
   "id": "c117dd75-3631-4cf7-827c-14618d36df14",
   "metadata": {},
   "source": [
    "### Obtenção das predições do modelo armazenadas no BigQuery"
   ]
  },
  {
   "cell_type": "code",
   "execution_count": 3,
   "id": "49c7a87c-3606-41bd-b327-d79a2fc755b9",
   "metadata": {},
   "outputs": [
    {
     "data": {
      "text/html": [
       "<div>\n",
       "<style scoped>\n",
       "    .dataframe tbody tr th:only-of-type {\n",
       "        vertical-align: middle;\n",
       "    }\n",
       "\n",
       "    .dataframe tbody tr th {\n",
       "        vertical-align: top;\n",
       "    }\n",
       "\n",
       "    .dataframe thead th {\n",
       "        text-align: right;\n",
       "    }\n",
       "</style>\n",
       "<table border=\"1\" class=\"dataframe\">\n",
       "  <thead>\n",
       "    <tr style=\"text-align: right;\">\n",
       "      <th></th>\n",
       "      <th>id</th>\n",
       "      <th>request_datetime</th>\n",
       "      <th>result</th>\n",
       "      <th>status</th>\n",
       "    </tr>\n",
       "  </thead>\n",
       "  <tbody>\n",
       "    <tr>\n",
       "      <th>0</th>\n",
       "      <td>12215</td>\n",
       "      <td>2021-12-18 02:59:46</td>\n",
       "      <td>0</td>\n",
       "      <td>Not Looking for Job</td>\n",
       "    </tr>\n",
       "    <tr>\n",
       "      <th>1</th>\n",
       "      <td>9858</td>\n",
       "      <td>2021-12-18 03:05:37</td>\n",
       "      <td>0</td>\n",
       "      <td>Not Looking for Job</td>\n",
       "    </tr>\n",
       "    <tr>\n",
       "      <th>2</th>\n",
       "      <td>31806</td>\n",
       "      <td>2021-12-18 03:05:37</td>\n",
       "      <td>0</td>\n",
       "      <td>Not Looking for Job</td>\n",
       "    </tr>\n",
       "    <tr>\n",
       "      <th>3</th>\n",
       "      <td>27385</td>\n",
       "      <td>2021-12-18 03:05:38</td>\n",
       "      <td>1</td>\n",
       "      <td>Looking for Job</td>\n",
       "    </tr>\n",
       "    <tr>\n",
       "      <th>4</th>\n",
       "      <td>32403</td>\n",
       "      <td>2021-12-18 03:05:36</td>\n",
       "      <td>0</td>\n",
       "      <td>Not Looking for Job</td>\n",
       "    </tr>\n",
       "  </tbody>\n",
       "</table>\n",
       "</div>"
      ],
      "text/plain": [
       "      id     request_datetime  result               status\n",
       "0  12215  2021-12-18 02:59:46       0  Not Looking for Job\n",
       "1   9858  2021-12-18 03:05:37       0  Not Looking for Job\n",
       "2  31806  2021-12-18 03:05:37       0  Not Looking for Job\n",
       "3  27385  2021-12-18 03:05:38       1      Looking for Job\n",
       "4  32403  2021-12-18 03:05:36       0  Not Looking for Job"
      ]
     },
     "execution_count": 3,
     "metadata": {},
     "output_type": "execute_result"
    }
   ],
   "source": [
    "def get_scores():\n",
    "    query = 'SELECT * FROM `red-seeker-334115.dsjobs.predictions`'\n",
    "    return pd.read_gbq(query)\n",
    "\n",
    "df_predicoes = get_scores()\n",
    "df_predicoes.head()"
   ]
  },
  {
   "cell_type": "markdown",
   "id": "50d6aab2-3e0b-4656-9986-f39603e373d2",
   "metadata": {},
   "source": [
    "### Distribuição das predições"
   ]
  },
  {
   "cell_type": "code",
   "execution_count": 4,
   "id": "997ba481-d3ad-454e-ad58-0d4f54d25be0",
   "metadata": {},
   "outputs": [
    {
     "data": {
      "image/png": "[encoded data removed]",
      "text/plain": [
       "<Figure size 504x648 with 1 Axes>"
      ]
     },
     "metadata": {
      "needs_background": "light"
     },
     "output_type": "display_data"
    }
   ],
   "source": [
    "plot_distribution(df_predicoes['status'], 'distribuicao_predicoes.png')"
   ]
  },
  {
   "cell_type": "markdown",
   "id": "5c408169-e8dd-4bf0-90ea-f2b2653acd26",
   "metadata": {},
   "source": [
    "### Obtenção dos dados de treino armazenados no Bucket"
   ]
  },
  {
   "cell_type": "code",
   "execution_count": 5,
   "id": "033647d2-c54f-45fc-84aa-3f657c1dbdec",
   "metadata": {},
   "outputs": [
    {
     "data": {
      "text/html": [
       "<div>\n",
       "<style scoped>\n",
       "    .dataframe tbody tr th:only-of-type {\n",
       "        vertical-align: middle;\n",
       "    }\n",
       "\n",
       "    .dataframe tbody tr th {\n",
       "        vertical-align: top;\n",
       "    }\n",
       "\n",
       "    .dataframe thead th {\n",
       "        text-align: right;\n",
       "    }\n",
       "</style>\n",
       "<table border=\"1\" class=\"dataframe\">\n",
       "  <thead>\n",
       "    <tr style=\"text-align: right;\">\n",
       "      <th></th>\n",
       "      <th>enrollee_id</th>\n",
       "      <th>city</th>\n",
       "      <th>city_development_index</th>\n",
       "      <th>gender</th>\n",
       "      <th>relevent_experience</th>\n",
       "      <th>enrolled_university</th>\n",
       "      <th>education_level</th>\n",
       "      <th>major_discipline</th>\n",
       "      <th>experience</th>\n",
       "      <th>company_size</th>\n",
       "      <th>company_type</th>\n",
       "      <th>last_new_job</th>\n",
       "      <th>training_hours</th>\n",
       "      <th>target</th>\n",
       "      <th>classes</th>\n",
       "    </tr>\n",
       "  </thead>\n",
       "  <tbody>\n",
       "    <tr>\n",
       "      <th>0</th>\n",
       "      <td>8949</td>\n",
       "      <td>city_103</td>\n",
       "      <td>0.920</td>\n",
       "      <td>Male</td>\n",
       "      <td>Has relevent experience</td>\n",
       "      <td>no_enrollment</td>\n",
       "      <td>Graduate</td>\n",
       "      <td>STEM</td>\n",
       "      <td>&gt;20</td>\n",
       "      <td>NaN</td>\n",
       "      <td>NaN</td>\n",
       "      <td>1</td>\n",
       "      <td>36</td>\n",
       "      <td>1.0</td>\n",
       "      <td>Looking for Job</td>\n",
       "    </tr>\n",
       "    <tr>\n",
       "      <th>1</th>\n",
       "      <td>29725</td>\n",
       "      <td>city_40</td>\n",
       "      <td>0.776</td>\n",
       "      <td>Male</td>\n",
       "      <td>No relevent experience</td>\n",
       "      <td>no_enrollment</td>\n",
       "      <td>Graduate</td>\n",
       "      <td>STEM</td>\n",
       "      <td>15</td>\n",
       "      <td>50-99</td>\n",
       "      <td>Pvt Ltd</td>\n",
       "      <td>&gt;4</td>\n",
       "      <td>47</td>\n",
       "      <td>0.0</td>\n",
       "      <td>Not Looking for Job</td>\n",
       "    </tr>\n",
       "    <tr>\n",
       "      <th>2</th>\n",
       "      <td>11561</td>\n",
       "      <td>city_21</td>\n",
       "      <td>0.624</td>\n",
       "      <td>NaN</td>\n",
       "      <td>No relevent experience</td>\n",
       "      <td>Full time course</td>\n",
       "      <td>Graduate</td>\n",
       "      <td>STEM</td>\n",
       "      <td>5</td>\n",
       "      <td>NaN</td>\n",
       "      <td>NaN</td>\n",
       "      <td>never</td>\n",
       "      <td>83</td>\n",
       "      <td>0.0</td>\n",
       "      <td>Not Looking for Job</td>\n",
       "    </tr>\n",
       "    <tr>\n",
       "      <th>3</th>\n",
       "      <td>33241</td>\n",
       "      <td>city_115</td>\n",
       "      <td>0.789</td>\n",
       "      <td>NaN</td>\n",
       "      <td>No relevent experience</td>\n",
       "      <td>NaN</td>\n",
       "      <td>Graduate</td>\n",
       "      <td>Business Degree</td>\n",
       "      <td>&lt;1</td>\n",
       "      <td>NaN</td>\n",
       "      <td>Pvt Ltd</td>\n",
       "      <td>never</td>\n",
       "      <td>52</td>\n",
       "      <td>1.0</td>\n",
       "      <td>Looking for Job</td>\n",
       "    </tr>\n",
       "    <tr>\n",
       "      <th>4</th>\n",
       "      <td>666</td>\n",
       "      <td>city_162</td>\n",
       "      <td>0.767</td>\n",
       "      <td>Male</td>\n",
       "      <td>Has relevent experience</td>\n",
       "      <td>no_enrollment</td>\n",
       "      <td>Masters</td>\n",
       "      <td>STEM</td>\n",
       "      <td>&gt;20</td>\n",
       "      <td>50-99</td>\n",
       "      <td>Funded Startup</td>\n",
       "      <td>4</td>\n",
       "      <td>8</td>\n",
       "      <td>0.0</td>\n",
       "      <td>Not Looking for Job</td>\n",
       "    </tr>\n",
       "  </tbody>\n",
       "</table>\n",
       "</div>"
      ],
      "text/plain": [
       "   enrollee_id      city  city_development_index gender  \\\n",
       "0         8949  city_103                   0.920   Male   \n",
       "1        29725   city_40                   0.776   Male   \n",
       "2        11561   city_21                   0.624    NaN   \n",
       "3        33241  city_115                   0.789    NaN   \n",
       "4          666  city_162                   0.767   Male   \n",
       "\n",
       "       relevent_experience enrolled_university education_level  \\\n",
       "0  Has relevent experience       no_enrollment        Graduate   \n",
       "1   No relevent experience       no_enrollment        Graduate   \n",
       "2   No relevent experience    Full time course        Graduate   \n",
       "3   No relevent experience                 NaN        Graduate   \n",
       "4  Has relevent experience       no_enrollment         Masters   \n",
       "\n",
       "  major_discipline experience company_size    company_type last_new_job  \\\n",
       "0             STEM        >20          NaN             NaN            1   \n",
       "1             STEM         15        50-99         Pvt Ltd           >4   \n",
       "2             STEM          5          NaN             NaN        never   \n",
       "3  Business Degree         <1          NaN         Pvt Ltd        never   \n",
       "4             STEM        >20        50-99  Funded Startup            4   \n",
       "\n",
       "   training_hours  target              classes  \n",
       "0              36     1.0      Looking for Job  \n",
       "1              47     0.0  Not Looking for Job  \n",
       "2              83     0.0  Not Looking for Job  \n",
       "3              52     1.0      Looking for Job  \n",
       "4               8     0.0  Not Looking for Job  "
      ]
     },
     "execution_count": 5,
     "metadata": {},
     "output_type": "execute_result"
    }
   ],
   "source": [
    "# $ gsutil -m cp -r gs://artefatos-do-modelo-dsjobs/ds-job-train.csv dataset/\n",
    "\n",
    "df_treino = pd.read_csv('dataset/ds-job-train.csv')\n",
    "df_treino['classes'] = df_treino['target'].map({\n",
    "    1.0: 'Looking for Job',\n",
    "    0.0: 'Not Looking for Job'})\n",
    "df_treino.head()"
   ]
  },
  {
   "cell_type": "markdown",
   "id": "74e70d2d-2b33-4b6c-a1a8-89d5b914cbb2",
   "metadata": {},
   "source": [
    "### Distribuição dos dados de treino"
   ]
  },
  {
   "cell_type": "code",
   "execution_count": 6,
   "id": "293c037d-260e-42d9-858c-4622585de21e",
   "metadata": {},
   "outputs": [
    {
     "data": {
      "image/png": "[encoded data removed]",
      "text/plain": [
       "<Figure size 504x648 with 1 Axes>"
      ]
     },
     "metadata": {
      "needs_background": "light"
     },
     "output_type": "display_data"
    }
   ],
   "source": [
    "plot_distribution(df_treino['classes'], 'distribuicao_treino.png')"
   ]
  },
  {
   "cell_type": "markdown",
   "id": "151a531e-8eb8-4763-bed6-34f7230f25ba",
   "metadata": {},
   "source": [
    "### Comparação das distribuições"
   ]
  },
  {
   "cell_type": "code",
   "execution_count": 7,
   "id": "e4752908-99f8-433b-8a4a-5f8d83dec483",
   "metadata": {},
   "outputs": [
    {
     "data": {
      "image/png": "[encoded data removed]",
      "text/plain": [
       "<Figure size 504x648 with 1 Axes>"
      ]
     },
     "metadata": {
      "needs_background": "light"
     },
     "output_type": "display_data"
    }
   ],
   "source": [
    "plot_both_distributions(('Dados de treino', df_treino['classes']), ('Predições', df_predicoes['status']), 'distribuicoes.png')"
   ]
  },
  {
   "cell_type": "markdown",
   "id": "2e60fff5-9636-481a-881c-94f490b23295",
   "metadata": {},
   "source": [
    "### Cálculo do PSI para comparação das distribuições"
   ]
  },
  {
   "cell_type": "code",
   "execution_count": 8,
   "id": "cc9e7ca0-9c82-48bd-80d1-7e41a5d05aac",
   "metadata": {},
   "outputs": [
    {
     "data": {
      "text/html": [
       "<div>\n",
       "<style scoped>\n",
       "    .dataframe tbody tr th:only-of-type {\n",
       "        vertical-align: middle;\n",
       "    }\n",
       "\n",
       "    .dataframe tbody tr th {\n",
       "        vertical-align: top;\n",
       "    }\n",
       "\n",
       "    .dataframe thead th {\n",
       "        text-align: right;\n",
       "    }\n",
       "</style>\n",
       "<table border=\"1\" class=\"dataframe\">\n",
       "  <thead>\n",
       "    <tr style=\"text-align: right;\">\n",
       "      <th></th>\n",
       "      <th>classes</th>\n",
       "      <th>bucket</th>\n",
       "      <th>actual_count</th>\n",
       "      <th>expected_count</th>\n",
       "      <th>actual_percent</th>\n",
       "      <th>expected_percent</th>\n",
       "      <th>actual-expected</th>\n",
       "      <th>ln(actual/percent)</th>\n",
       "      <th>psi</th>\n",
       "    </tr>\n",
       "  </thead>\n",
       "  <tbody>\n",
       "    <tr>\n",
       "      <th>0</th>\n",
       "      <td>Not Looking for Job</td>\n",
       "      <td>1</td>\n",
       "      <td>123</td>\n",
       "      <td>4777</td>\n",
       "      <td>0.123</td>\n",
       "      <td>0.249348</td>\n",
       "      <td>-0.126348</td>\n",
       "      <td>-0.706663</td>\n",
       "      <td>0.089285</td>\n",
       "    </tr>\n",
       "    <tr>\n",
       "      <th>1</th>\n",
       "      <td>Looking for Job</td>\n",
       "      <td>2</td>\n",
       "      <td>877</td>\n",
       "      <td>14381</td>\n",
       "      <td>0.877</td>\n",
       "      <td>0.750652</td>\n",
       "      <td>0.126348</td>\n",
       "      <td>0.155564</td>\n",
       "      <td>0.019655</td>\n",
       "    </tr>\n",
       "  </tbody>\n",
       "</table>\n",
       "</div>"
      ],
      "text/plain": [
       "               classes  bucket  actual_count  expected_count  actual_percent  \\\n",
       "0  Not Looking for Job       1           123            4777           0.123   \n",
       "1      Looking for Job       2           877           14381           0.877   \n",
       "\n",
       "   expected_percent  actual-expected  ln(actual/percent)       psi  \n",
       "0          0.249348        -0.126348           -0.706663  0.089285  \n",
       "1          0.750652         0.126348            0.155564  0.019655  "
      ]
     },
     "execution_count": 8,
     "metadata": {},
     "output_type": "execute_result"
    }
   ],
   "source": [
    "actual = df_predicoes['status']\n",
    "expected = df_treino['classes']\n",
    "\n",
    "create_psi_table(actual, expected)"
   ]
  },
  {
   "cell_type": "code",
   "execution_count": 9,
   "id": "314593b0-2847-46b2-9080-e334bf15d6b8",
   "metadata": {},
   "outputs": [
    {
     "name": "stdout",
     "output_type": "stream",
     "text": [
      "PSI: 0.10894\n"
     ]
    }
   ],
   "source": [
    "print('PSI:', psi(actual, expected))"
   ]
  },
  {
   "cell_type": "code",
   "execution_count": 10,
   "id": "e981c55f-cba7-4fd8-b9ce-3c420af152b6",
   "metadata": {},
   "outputs": [
    {
     "data": {
      "text/html": [
       "<div>\n",
       "<style scoped>\n",
       "    .dataframe tbody tr th:only-of-type {\n",
       "        vertical-align: middle;\n",
       "    }\n",
       "\n",
       "    .dataframe tbody tr th {\n",
       "        vertical-align: top;\n",
       "    }\n",
       "\n",
       "    .dataframe thead th {\n",
       "        text-align: right;\n",
       "    }\n",
       "</style>\n",
       "<table border=\"1\" class=\"dataframe\">\n",
       "  <thead>\n",
       "    <tr style=\"text-align: right;\">\n",
       "      <th></th>\n",
       "      <th>scales</th>\n",
       "      <th>description</th>\n",
       "      <th>your_scale</th>\n",
       "    </tr>\n",
       "  </thead>\n",
       "  <tbody>\n",
       "    <tr>\n",
       "      <th>0</th>\n",
       "      <td>PSI &lt; 0.1</td>\n",
       "      <td>no significant population change</td>\n",
       "      <td></td>\n",
       "    </tr>\n",
       "    <tr>\n",
       "      <th>1</th>\n",
       "      <td>PSI &lt; 0.2</td>\n",
       "      <td>moderate population change</td>\n",
       "      <td>X</td>\n",
       "    </tr>\n",
       "    <tr>\n",
       "      <th>2</th>\n",
       "      <td>PSI &gt;= 0.2</td>\n",
       "      <td>significant population change</td>\n",
       "      <td></td>\n",
       "    </tr>\n",
       "  </tbody>\n",
       "</table>\n",
       "</div>"
      ],
      "text/plain": [
       "       scales                       description your_scale\n",
       "0   PSI < 0.1  no significant population change           \n",
       "1   PSI < 0.2        moderate population change          X\n",
       "2  PSI >= 0.2     significant population change           "
      ]
     },
     "execution_count": 10,
     "metadata": {},
     "output_type": "execute_result"
    }
   ],
   "source": [
    "psi_interpretation(actual, expected)"
   ]
  }
 ],
 "metadata": {
  "environment": {
   "kernel": "python3",
   "name": "common-cpu.m87",
   "type": "gcloud",
   "uri": "gcr.io/deeplearning-platform-release/base-cpu:m87"
  },
  "kernelspec": {
   "display_name": "Python 3",
   "language": "python",
   "name": "python3"
  },
  "language_info": {
   "codemirror_mode": {
    "name": "ipython",
    "version": 3
   },
   "file_extension": ".py",
   "mimetype": "text/x-python",
   "name": "python",
   "nbconvert_exporter": "python",
   "pygments_lexer": "ipython3",
   "version": "3.7.12"
  }
 },
 "nbformat": 4,
 "nbformat_minor": 5
}
