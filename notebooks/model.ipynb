{
 "cells": [
  {
   "cell_type": "code",
   "execution_count": 22,
   "metadata": {},
   "outputs": [],
   "source": [
    "import pandas as pd\n",
    "import numpy as np\n",
    "from sklearn.model_selection import train_test_split\n",
    "from sklearn.preprocessing import MinMaxScaler, OneHotEncoder\n",
    "from sklearn.compose import ColumnTransformer\n",
    "from sklearn.ensemble import RandomForestRegressor\n",
    "from sklearn.pipeline import Pipeline\n",
    "from sklearn import set_config\n",
    "from sklearn.metrics import mean_absolute_error, mean_squared_error, mean_absolute_percentage_error\n",
    "import pickle"
   ]
  },
  {
   "cell_type": "code",
   "execution_count": 15,
   "metadata": {},
   "outputs": [],
   "source": [
    "set_config(display='diagram')"
   ]
  },
  {
   "cell_type": "code",
   "execution_count": 3,
   "metadata": {},
   "outputs": [],
   "source": [
    "df = pd.read_csv('../data/raw/SampleSuperstore.csv')"
   ]
  },
  {
   "cell_type": "code",
   "execution_count": 4,
   "metadata": {},
   "outputs": [
    {
     "data": {
      "text/html": [
       "<div>\n",
       "<style scoped>\n",
       "    .dataframe tbody tr th:only-of-type {\n",
       "        vertical-align: middle;\n",
       "    }\n",
       "\n",
       "    .dataframe tbody tr th {\n",
       "        vertical-align: top;\n",
       "    }\n",
       "\n",
       "    .dataframe thead th {\n",
       "        text-align: right;\n",
       "    }\n",
       "</style>\n",
       "<table border=\"1\" class=\"dataframe\">\n",
       "  <thead>\n",
       "    <tr style=\"text-align: right;\">\n",
       "      <th></th>\n",
       "      <th>Ship Mode</th>\n",
       "      <th>Segment</th>\n",
       "      <th>Country</th>\n",
       "      <th>City</th>\n",
       "      <th>State</th>\n",
       "      <th>Postal Code</th>\n",
       "      <th>Region</th>\n",
       "      <th>Category</th>\n",
       "      <th>Sub-Category</th>\n",
       "      <th>Sales</th>\n",
       "      <th>Quantity</th>\n",
       "      <th>Discount</th>\n",
       "      <th>Profit</th>\n",
       "    </tr>\n",
       "  </thead>\n",
       "  <tbody>\n",
       "    <tr>\n",
       "      <th>0</th>\n",
       "      <td>Second Class</td>\n",
       "      <td>Consumer</td>\n",
       "      <td>United States</td>\n",
       "      <td>Henderson</td>\n",
       "      <td>Kentucky</td>\n",
       "      <td>42420</td>\n",
       "      <td>South</td>\n",
       "      <td>Furniture</td>\n",
       "      <td>Bookcases</td>\n",
       "      <td>261.9600</td>\n",
       "      <td>2</td>\n",
       "      <td>0.00</td>\n",
       "      <td>41.9136</td>\n",
       "    </tr>\n",
       "    <tr>\n",
       "      <th>1</th>\n",
       "      <td>Second Class</td>\n",
       "      <td>Consumer</td>\n",
       "      <td>United States</td>\n",
       "      <td>Henderson</td>\n",
       "      <td>Kentucky</td>\n",
       "      <td>42420</td>\n",
       "      <td>South</td>\n",
       "      <td>Furniture</td>\n",
       "      <td>Chairs</td>\n",
       "      <td>731.9400</td>\n",
       "      <td>3</td>\n",
       "      <td>0.00</td>\n",
       "      <td>219.5820</td>\n",
       "    </tr>\n",
       "    <tr>\n",
       "      <th>2</th>\n",
       "      <td>Second Class</td>\n",
       "      <td>Corporate</td>\n",
       "      <td>United States</td>\n",
       "      <td>Los Angeles</td>\n",
       "      <td>California</td>\n",
       "      <td>90036</td>\n",
       "      <td>West</td>\n",
       "      <td>Office Supplies</td>\n",
       "      <td>Labels</td>\n",
       "      <td>14.6200</td>\n",
       "      <td>2</td>\n",
       "      <td>0.00</td>\n",
       "      <td>6.8714</td>\n",
       "    </tr>\n",
       "    <tr>\n",
       "      <th>3</th>\n",
       "      <td>Standard Class</td>\n",
       "      <td>Consumer</td>\n",
       "      <td>United States</td>\n",
       "      <td>Fort Lauderdale</td>\n",
       "      <td>Florida</td>\n",
       "      <td>33311</td>\n",
       "      <td>South</td>\n",
       "      <td>Furniture</td>\n",
       "      <td>Tables</td>\n",
       "      <td>957.5775</td>\n",
       "      <td>5</td>\n",
       "      <td>0.45</td>\n",
       "      <td>-383.0310</td>\n",
       "    </tr>\n",
       "    <tr>\n",
       "      <th>4</th>\n",
       "      <td>Standard Class</td>\n",
       "      <td>Consumer</td>\n",
       "      <td>United States</td>\n",
       "      <td>Fort Lauderdale</td>\n",
       "      <td>Florida</td>\n",
       "      <td>33311</td>\n",
       "      <td>South</td>\n",
       "      <td>Office Supplies</td>\n",
       "      <td>Storage</td>\n",
       "      <td>22.3680</td>\n",
       "      <td>2</td>\n",
       "      <td>0.20</td>\n",
       "      <td>2.5164</td>\n",
       "    </tr>\n",
       "    <tr>\n",
       "      <th>...</th>\n",
       "      <td>...</td>\n",
       "      <td>...</td>\n",
       "      <td>...</td>\n",
       "      <td>...</td>\n",
       "      <td>...</td>\n",
       "      <td>...</td>\n",
       "      <td>...</td>\n",
       "      <td>...</td>\n",
       "      <td>...</td>\n",
       "      <td>...</td>\n",
       "      <td>...</td>\n",
       "      <td>...</td>\n",
       "      <td>...</td>\n",
       "    </tr>\n",
       "    <tr>\n",
       "      <th>9989</th>\n",
       "      <td>Second Class</td>\n",
       "      <td>Consumer</td>\n",
       "      <td>United States</td>\n",
       "      <td>Miami</td>\n",
       "      <td>Florida</td>\n",
       "      <td>33180</td>\n",
       "      <td>South</td>\n",
       "      <td>Furniture</td>\n",
       "      <td>Furnishings</td>\n",
       "      <td>25.2480</td>\n",
       "      <td>3</td>\n",
       "      <td>0.20</td>\n",
       "      <td>4.1028</td>\n",
       "    </tr>\n",
       "    <tr>\n",
       "      <th>9990</th>\n",
       "      <td>Standard Class</td>\n",
       "      <td>Consumer</td>\n",
       "      <td>United States</td>\n",
       "      <td>Costa Mesa</td>\n",
       "      <td>California</td>\n",
       "      <td>92627</td>\n",
       "      <td>West</td>\n",
       "      <td>Furniture</td>\n",
       "      <td>Furnishings</td>\n",
       "      <td>91.9600</td>\n",
       "      <td>2</td>\n",
       "      <td>0.00</td>\n",
       "      <td>15.6332</td>\n",
       "    </tr>\n",
       "    <tr>\n",
       "      <th>9991</th>\n",
       "      <td>Standard Class</td>\n",
       "      <td>Consumer</td>\n",
       "      <td>United States</td>\n",
       "      <td>Costa Mesa</td>\n",
       "      <td>California</td>\n",
       "      <td>92627</td>\n",
       "      <td>West</td>\n",
       "      <td>Technology</td>\n",
       "      <td>Phones</td>\n",
       "      <td>258.5760</td>\n",
       "      <td>2</td>\n",
       "      <td>0.20</td>\n",
       "      <td>19.3932</td>\n",
       "    </tr>\n",
       "    <tr>\n",
       "      <th>9992</th>\n",
       "      <td>Standard Class</td>\n",
       "      <td>Consumer</td>\n",
       "      <td>United States</td>\n",
       "      <td>Costa Mesa</td>\n",
       "      <td>California</td>\n",
       "      <td>92627</td>\n",
       "      <td>West</td>\n",
       "      <td>Office Supplies</td>\n",
       "      <td>Paper</td>\n",
       "      <td>29.6000</td>\n",
       "      <td>4</td>\n",
       "      <td>0.00</td>\n",
       "      <td>13.3200</td>\n",
       "    </tr>\n",
       "    <tr>\n",
       "      <th>9993</th>\n",
       "      <td>Second Class</td>\n",
       "      <td>Consumer</td>\n",
       "      <td>United States</td>\n",
       "      <td>Westminster</td>\n",
       "      <td>California</td>\n",
       "      <td>92683</td>\n",
       "      <td>West</td>\n",
       "      <td>Office Supplies</td>\n",
       "      <td>Appliances</td>\n",
       "      <td>243.1600</td>\n",
       "      <td>2</td>\n",
       "      <td>0.00</td>\n",
       "      <td>72.9480</td>\n",
       "    </tr>\n",
       "  </tbody>\n",
       "</table>\n",
       "<p>9994 rows × 13 columns</p>\n",
       "</div>"
      ],
      "text/plain": [
       "           Ship Mode    Segment        Country             City       State  \\\n",
       "0       Second Class   Consumer  United States        Henderson    Kentucky   \n",
       "1       Second Class   Consumer  United States        Henderson    Kentucky   \n",
       "2       Second Class  Corporate  United States      Los Angeles  California   \n",
       "3     Standard Class   Consumer  United States  Fort Lauderdale     Florida   \n",
       "4     Standard Class   Consumer  United States  Fort Lauderdale     Florida   \n",
       "...              ...        ...            ...              ...         ...   \n",
       "9989    Second Class   Consumer  United States            Miami     Florida   \n",
       "9990  Standard Class   Consumer  United States       Costa Mesa  California   \n",
       "9991  Standard Class   Consumer  United States       Costa Mesa  California   \n",
       "9992  Standard Class   Consumer  United States       Costa Mesa  California   \n",
       "9993    Second Class   Consumer  United States      Westminster  California   \n",
       "\n",
       "      Postal Code Region         Category Sub-Category     Sales  Quantity  \\\n",
       "0           42420  South        Furniture    Bookcases  261.9600         2   \n",
       "1           42420  South        Furniture       Chairs  731.9400         3   \n",
       "2           90036   West  Office Supplies       Labels   14.6200         2   \n",
       "3           33311  South        Furniture       Tables  957.5775         5   \n",
       "4           33311  South  Office Supplies      Storage   22.3680         2   \n",
       "...           ...    ...              ...          ...       ...       ...   \n",
       "9989        33180  South        Furniture  Furnishings   25.2480         3   \n",
       "9990        92627   West        Furniture  Furnishings   91.9600         2   \n",
       "9991        92627   West       Technology       Phones  258.5760         2   \n",
       "9992        92627   West  Office Supplies        Paper   29.6000         4   \n",
       "9993        92683   West  Office Supplies   Appliances  243.1600         2   \n",
       "\n",
       "      Discount    Profit  \n",
       "0         0.00   41.9136  \n",
       "1         0.00  219.5820  \n",
       "2         0.00    6.8714  \n",
       "3         0.45 -383.0310  \n",
       "4         0.20    2.5164  \n",
       "...        ...       ...  \n",
       "9989      0.20    4.1028  \n",
       "9990      0.00   15.6332  \n",
       "9991      0.20   19.3932  \n",
       "9992      0.00   13.3200  \n",
       "9993      0.00   72.9480  \n",
       "\n",
       "[9994 rows x 13 columns]"
      ]
     },
     "execution_count": 4,
     "metadata": {},
     "output_type": "execute_result"
    }
   ],
   "source": [
    "df"
   ]
  },
  {
   "cell_type": "code",
   "execution_count": 5,
   "metadata": {},
   "outputs": [],
   "source": [
    "df['Postal Code'] = df['Postal Code'].astype('object')"
   ]
  },
  {
   "cell_type": "code",
   "execution_count": 6,
   "metadata": {},
   "outputs": [],
   "source": [
    "numeric_data = df.loc[:,'Ship Mode':'Discount'].select_dtypes(include=['int64', 'float64']).columns\n",
    "categoric_data = df.loc[:,'Ship Mode':'Discount'].select_dtypes(include=['object']).columns"
   ]
  },
  {
   "cell_type": "code",
   "execution_count": 8,
   "metadata": {},
   "outputs": [
    {
     "name": "stdout",
     "output_type": "stream",
     "text": [
      "Amostras de treino:\n",
      " * X_train: (6995, 12)\n",
      " * y_train: (6995,)\n",
      "Amostras de teste:\n",
      " * X_test: (2999, 12)\n",
      " * y_test: (2999,)\n"
     ]
    }
   ],
   "source": [
    "x = df.drop(['Profit'], axis=1)\n",
    "y = df['Profit']\n",
    "\n",
    "x_train, x_test, y_train, y_test = train_test_split(x, y, test_size=0.3, random_state=42)\n",
    "\n",
    "print('Amostras de treino:')\n",
    "print(f' * X_train: {x_train.shape}')\n",
    "print(f' * y_train: {y_train.shape}')\n",
    "\n",
    "print('Amostras de teste:')\n",
    "print(f' * X_test: {x_test.shape}')\n",
    "print(f' * y_test: {y_test.shape}')"
   ]
  },
  {
   "cell_type": "code",
   "execution_count": 10,
   "metadata": {},
   "outputs": [],
   "source": [
    "transformers=[('cat_scale', OneHotEncoder(handle_unknown='ignore'), categoric_data),\n",
    "             ('num_scale', MinMaxScaler(), numeric_data)]\n",
    "\n",
    "preprocessor = ColumnTransformer(transformers=transformers)"
   ]
  },
  {
   "cell_type": "code",
   "execution_count": 16,
   "metadata": {},
   "outputs": [
    {
     "data": {
      "text/html": [
       "<style>#sk-38dfc681-c8ef-461a-98b6-57526a9c01c1 {color: black;background-color: white;}#sk-38dfc681-c8ef-461a-98b6-57526a9c01c1 pre{padding: 0;}#sk-38dfc681-c8ef-461a-98b6-57526a9c01c1 div.sk-toggleable {background-color: white;}#sk-38dfc681-c8ef-461a-98b6-57526a9c01c1 label.sk-toggleable__label {cursor: pointer;display: block;width: 100%;margin-bottom: 0;padding: 0.3em;box-sizing: border-box;text-align: center;}#sk-38dfc681-c8ef-461a-98b6-57526a9c01c1 div.sk-toggleable__content {max-height: 0;max-width: 0;overflow: hidden;text-align: left;background-color: #f0f8ff;}#sk-38dfc681-c8ef-461a-98b6-57526a9c01c1 div.sk-toggleable__content pre {margin: 0.2em;color: black;border-radius: 0.25em;background-color: #f0f8ff;}#sk-38dfc681-c8ef-461a-98b6-57526a9c01c1 input.sk-toggleable__control:checked~div.sk-toggleable__content {max-height: 200px;max-width: 100%;overflow: auto;}#sk-38dfc681-c8ef-461a-98b6-57526a9c01c1 div.sk-estimator input.sk-toggleable__control:checked~label.sk-toggleable__label {background-color: #d4ebff;}#sk-38dfc681-c8ef-461a-98b6-57526a9c01c1 div.sk-label input.sk-toggleable__control:checked~label.sk-toggleable__label {background-color: #d4ebff;}#sk-38dfc681-c8ef-461a-98b6-57526a9c01c1 input.sk-hidden--visually {border: 0;clip: rect(1px 1px 1px 1px);clip: rect(1px, 1px, 1px, 1px);height: 1px;margin: -1px;overflow: hidden;padding: 0;position: absolute;width: 1px;}#sk-38dfc681-c8ef-461a-98b6-57526a9c01c1 div.sk-estimator {font-family: monospace;background-color: #f0f8ff;border: 1px dotted black;border-radius: 0.25em;box-sizing: border-box;margin-bottom: 0.5em;}#sk-38dfc681-c8ef-461a-98b6-57526a9c01c1 div.sk-estimator:hover {background-color: #d4ebff;}#sk-38dfc681-c8ef-461a-98b6-57526a9c01c1 div.sk-parallel-item::after {content: \"\";width: 100%;border-bottom: 1px solid gray;flex-grow: 1;}#sk-38dfc681-c8ef-461a-98b6-57526a9c01c1 div.sk-label:hover label.sk-toggleable__label {background-color: #d4ebff;}#sk-38dfc681-c8ef-461a-98b6-57526a9c01c1 div.sk-serial::before {content: \"\";position: absolute;border-left: 1px solid gray;box-sizing: border-box;top: 2em;bottom: 0;left: 50%;}#sk-38dfc681-c8ef-461a-98b6-57526a9c01c1 div.sk-serial {display: flex;flex-direction: column;align-items: center;background-color: white;padding-right: 0.2em;padding-left: 0.2em;}#sk-38dfc681-c8ef-461a-98b6-57526a9c01c1 div.sk-item {z-index: 1;}#sk-38dfc681-c8ef-461a-98b6-57526a9c01c1 div.sk-parallel {display: flex;align-items: stretch;justify-content: center;background-color: white;}#sk-38dfc681-c8ef-461a-98b6-57526a9c01c1 div.sk-parallel::before {content: \"\";position: absolute;border-left: 1px solid gray;box-sizing: border-box;top: 2em;bottom: 0;left: 50%;}#sk-38dfc681-c8ef-461a-98b6-57526a9c01c1 div.sk-parallel-item {display: flex;flex-direction: column;position: relative;background-color: white;}#sk-38dfc681-c8ef-461a-98b6-57526a9c01c1 div.sk-parallel-item:first-child::after {align-self: flex-end;width: 50%;}#sk-38dfc681-c8ef-461a-98b6-57526a9c01c1 div.sk-parallel-item:last-child::after {align-self: flex-start;width: 50%;}#sk-38dfc681-c8ef-461a-98b6-57526a9c01c1 div.sk-parallel-item:only-child::after {width: 0;}#sk-38dfc681-c8ef-461a-98b6-57526a9c01c1 div.sk-dashed-wrapped {border: 1px dashed gray;margin: 0 0.4em 0.5em 0.4em;box-sizing: border-box;padding-bottom: 0.4em;background-color: white;position: relative;}#sk-38dfc681-c8ef-461a-98b6-57526a9c01c1 div.sk-label label {font-family: monospace;font-weight: bold;background-color: white;display: inline-block;line-height: 1.2em;}#sk-38dfc681-c8ef-461a-98b6-57526a9c01c1 div.sk-label-container {position: relative;z-index: 2;text-align: center;}#sk-38dfc681-c8ef-461a-98b6-57526a9c01c1 div.sk-container {display: inline-block;position: relative;}</style><div id=\"sk-38dfc681-c8ef-461a-98b6-57526a9c01c1\" class\"sk-top-container\"><div class=\"sk-container\"><div class=\"sk-item sk-dashed-wrapped\"><div class=\"sk-label-container\"><div class=\"sk-label sk-toggleable\"><input class=\"sk-toggleable__control sk-hidden--visually\" id=\"4bc0b5f8-e5be-4122-a8a4-7e1e37252096\" type=\"checkbox\" ><label class=\"sk-toggleable__label\" for=\"4bc0b5f8-e5be-4122-a8a4-7e1e37252096\">Pipeline</label><div class=\"sk-toggleable__content\"><pre>Pipeline(steps=[('preprocessor',\n",
       "                 ColumnTransformer(transformers=[('cat_scale',\n",
       "                                                  OneHotEncoder(handle_unknown='ignore'),\n",
       "                                                  Index(['Ship Mode', 'Segment', 'Country', 'City', 'State', 'Postal Code',\n",
       "       'Region', 'Category', 'Sub-Category'],\n",
       "      dtype='object')),\n",
       "                                                 ('num_scale', MinMaxScaler(),\n",
       "                                                  Index(['Sales', 'Quantity', 'Discount'], dtype='object'))])),\n",
       "                ('rf_model', RandomForestRegressor(random_state=42))],\n",
       "         verbose=1)</pre></div></div></div><div class=\"sk-serial\"><div class=\"sk-item sk-dashed-wrapped\"><div class=\"sk-label-container\"><div class=\"sk-label sk-toggleable\"><input class=\"sk-toggleable__control sk-hidden--visually\" id=\"0dc72ae8-4713-4378-9b56-29e1e470f9c4\" type=\"checkbox\" ><label class=\"sk-toggleable__label\" for=\"0dc72ae8-4713-4378-9b56-29e1e470f9c4\">preprocessor: ColumnTransformer</label><div class=\"sk-toggleable__content\"><pre>ColumnTransformer(transformers=[('cat_scale',\n",
       "                                 OneHotEncoder(handle_unknown='ignore'),\n",
       "                                 Index(['Ship Mode', 'Segment', 'Country', 'City', 'State', 'Postal Code',\n",
       "       'Region', 'Category', 'Sub-Category'],\n",
       "      dtype='object')),\n",
       "                                ('num_scale', MinMaxScaler(),\n",
       "                                 Index(['Sales', 'Quantity', 'Discount'], dtype='object'))])</pre></div></div></div><div class=\"sk-parallel\"><div class=\"sk-parallel-item\"><div class=\"sk-item\"><div class=\"sk-label-container\"><div class=\"sk-label sk-toggleable\"><input class=\"sk-toggleable__control sk-hidden--visually\" id=\"d8854cff-0492-4aae-ba71-aeef0735c649\" type=\"checkbox\" ><label class=\"sk-toggleable__label\" for=\"d8854cff-0492-4aae-ba71-aeef0735c649\">cat_scale</label><div class=\"sk-toggleable__content\"><pre>Index(['Ship Mode', 'Segment', 'Country', 'City', 'State', 'Postal Code',\n",
       "       'Region', 'Category', 'Sub-Category'],\n",
       "      dtype='object')</pre></div></div></div><div class=\"sk-serial\"><div class=\"sk-item\"><div class=\"sk-estimator sk-toggleable\"><input class=\"sk-toggleable__control sk-hidden--visually\" id=\"d1bd6b89-5e6d-471f-b36c-be778d2ce066\" type=\"checkbox\" ><label class=\"sk-toggleable__label\" for=\"d1bd6b89-5e6d-471f-b36c-be778d2ce066\">OneHotEncoder</label><div class=\"sk-toggleable__content\"><pre>OneHotEncoder(handle_unknown='ignore')</pre></div></div></div></div></div></div><div class=\"sk-parallel-item\"><div class=\"sk-item\"><div class=\"sk-label-container\"><div class=\"sk-label sk-toggleable\"><input class=\"sk-toggleable__control sk-hidden--visually\" id=\"58551f36-96bf-4980-9f8e-2161b5e6b03e\" type=\"checkbox\" ><label class=\"sk-toggleable__label\" for=\"58551f36-96bf-4980-9f8e-2161b5e6b03e\">num_scale</label><div class=\"sk-toggleable__content\"><pre>Index(['Sales', 'Quantity', 'Discount'], dtype='object')</pre></div></div></div><div class=\"sk-serial\"><div class=\"sk-item\"><div class=\"sk-estimator sk-toggleable\"><input class=\"sk-toggleable__control sk-hidden--visually\" id=\"319a81b3-a94e-4635-b3d4-c2196146d442\" type=\"checkbox\" ><label class=\"sk-toggleable__label\" for=\"319a81b3-a94e-4635-b3d4-c2196146d442\">MinMaxScaler</label><div class=\"sk-toggleable__content\"><pre>MinMaxScaler()</pre></div></div></div></div></div></div></div></div><div class=\"sk-item\"><div class=\"sk-estimator sk-toggleable\"><input class=\"sk-toggleable__control sk-hidden--visually\" id=\"1864ef83-f311-46b1-852e-b83dc3c7b02e\" type=\"checkbox\" ><label class=\"sk-toggleable__label\" for=\"1864ef83-f311-46b1-852e-b83dc3c7b02e\">RandomForestRegressor</label><div class=\"sk-toggleable__content\"><pre>RandomForestRegressor(random_state=42)</pre></div></div></div></div></div></div></div>"
      ],
      "text/plain": [
       "Pipeline(steps=[('preprocessor',\n",
       "                 ColumnTransformer(transformers=[('cat_scale',\n",
       "                                                  OneHotEncoder(handle_unknown='ignore'),\n",
       "                                                  Index(['Ship Mode', 'Segment', 'Country', 'City', 'State', 'Postal Code',\n",
       "       'Region', 'Category', 'Sub-Category'],\n",
       "      dtype='object')),\n",
       "                                                 ('num_scale', MinMaxScaler(),\n",
       "                                                  Index(['Sales', 'Quantity', 'Discount'], dtype='object'))])),\n",
       "                ('rf_model', RandomForestRegressor(random_state=42))],\n",
       "         verbose=1)"
      ]
     },
     "execution_count": 16,
     "metadata": {},
     "output_type": "execute_result"
    }
   ],
   "source": [
    "rf_steps = [('preprocessor', preprocessor),\n",
    "        ('rf_model', RandomForestRegressor(random_state=42))]\n",
    "\n",
    "rf_model = Pipeline(steps=rf_steps, verbose=1)\n",
    "rf_model"
   ]
  },
  {
   "cell_type": "code",
   "execution_count": 17,
   "metadata": {},
   "outputs": [
    {
     "name": "stdout",
     "output_type": "stream",
     "text": [
      "[Pipeline] ...... (step 1 of 2) Processing preprocessor, total=   0.0s\n",
      "[Pipeline] .......... (step 2 of 2) Processing rf_model, total=  22.7s\n"
     ]
    },
    {
     "data": {
      "text/html": [
       "<style>#sk-114c7cac-9596-4b6a-bed6-a621e0d92e83 {color: black;background-color: white;}#sk-114c7cac-9596-4b6a-bed6-a621e0d92e83 pre{padding: 0;}#sk-114c7cac-9596-4b6a-bed6-a621e0d92e83 div.sk-toggleable {background-color: white;}#sk-114c7cac-9596-4b6a-bed6-a621e0d92e83 label.sk-toggleable__label {cursor: pointer;display: block;width: 100%;margin-bottom: 0;padding: 0.3em;box-sizing: border-box;text-align: center;}#sk-114c7cac-9596-4b6a-bed6-a621e0d92e83 div.sk-toggleable__content {max-height: 0;max-width: 0;overflow: hidden;text-align: left;background-color: #f0f8ff;}#sk-114c7cac-9596-4b6a-bed6-a621e0d92e83 div.sk-toggleable__content pre {margin: 0.2em;color: black;border-radius: 0.25em;background-color: #f0f8ff;}#sk-114c7cac-9596-4b6a-bed6-a621e0d92e83 input.sk-toggleable__control:checked~div.sk-toggleable__content {max-height: 200px;max-width: 100%;overflow: auto;}#sk-114c7cac-9596-4b6a-bed6-a621e0d92e83 div.sk-estimator input.sk-toggleable__control:checked~label.sk-toggleable__label {background-color: #d4ebff;}#sk-114c7cac-9596-4b6a-bed6-a621e0d92e83 div.sk-label input.sk-toggleable__control:checked~label.sk-toggleable__label {background-color: #d4ebff;}#sk-114c7cac-9596-4b6a-bed6-a621e0d92e83 input.sk-hidden--visually {border: 0;clip: rect(1px 1px 1px 1px);clip: rect(1px, 1px, 1px, 1px);height: 1px;margin: -1px;overflow: hidden;padding: 0;position: absolute;width: 1px;}#sk-114c7cac-9596-4b6a-bed6-a621e0d92e83 div.sk-estimator {font-family: monospace;background-color: #f0f8ff;border: 1px dotted black;border-radius: 0.25em;box-sizing: border-box;margin-bottom: 0.5em;}#sk-114c7cac-9596-4b6a-bed6-a621e0d92e83 div.sk-estimator:hover {background-color: #d4ebff;}#sk-114c7cac-9596-4b6a-bed6-a621e0d92e83 div.sk-parallel-item::after {content: \"\";width: 100%;border-bottom: 1px solid gray;flex-grow: 1;}#sk-114c7cac-9596-4b6a-bed6-a621e0d92e83 div.sk-label:hover label.sk-toggleable__label {background-color: #d4ebff;}#sk-114c7cac-9596-4b6a-bed6-a621e0d92e83 div.sk-serial::before {content: \"\";position: absolute;border-left: 1px solid gray;box-sizing: border-box;top: 2em;bottom: 0;left: 50%;}#sk-114c7cac-9596-4b6a-bed6-a621e0d92e83 div.sk-serial {display: flex;flex-direction: column;align-items: center;background-color: white;padding-right: 0.2em;padding-left: 0.2em;}#sk-114c7cac-9596-4b6a-bed6-a621e0d92e83 div.sk-item {z-index: 1;}#sk-114c7cac-9596-4b6a-bed6-a621e0d92e83 div.sk-parallel {display: flex;align-items: stretch;justify-content: center;background-color: white;}#sk-114c7cac-9596-4b6a-bed6-a621e0d92e83 div.sk-parallel::before {content: \"\";position: absolute;border-left: 1px solid gray;box-sizing: border-box;top: 2em;bottom: 0;left: 50%;}#sk-114c7cac-9596-4b6a-bed6-a621e0d92e83 div.sk-parallel-item {display: flex;flex-direction: column;position: relative;background-color: white;}#sk-114c7cac-9596-4b6a-bed6-a621e0d92e83 div.sk-parallel-item:first-child::after {align-self: flex-end;width: 50%;}#sk-114c7cac-9596-4b6a-bed6-a621e0d92e83 div.sk-parallel-item:last-child::after {align-self: flex-start;width: 50%;}#sk-114c7cac-9596-4b6a-bed6-a621e0d92e83 div.sk-parallel-item:only-child::after {width: 0;}#sk-114c7cac-9596-4b6a-bed6-a621e0d92e83 div.sk-dashed-wrapped {border: 1px dashed gray;margin: 0 0.4em 0.5em 0.4em;box-sizing: border-box;padding-bottom: 0.4em;background-color: white;position: relative;}#sk-114c7cac-9596-4b6a-bed6-a621e0d92e83 div.sk-label label {font-family: monospace;font-weight: bold;background-color: white;display: inline-block;line-height: 1.2em;}#sk-114c7cac-9596-4b6a-bed6-a621e0d92e83 div.sk-label-container {position: relative;z-index: 2;text-align: center;}#sk-114c7cac-9596-4b6a-bed6-a621e0d92e83 div.sk-container {display: inline-block;position: relative;}</style><div id=\"sk-114c7cac-9596-4b6a-bed6-a621e0d92e83\" class\"sk-top-container\"><div class=\"sk-container\"><div class=\"sk-item sk-dashed-wrapped\"><div class=\"sk-label-container\"><div class=\"sk-label sk-toggleable\"><input class=\"sk-toggleable__control sk-hidden--visually\" id=\"3e14320e-7a7f-4085-abaf-b5dd340c0db6\" type=\"checkbox\" ><label class=\"sk-toggleable__label\" for=\"3e14320e-7a7f-4085-abaf-b5dd340c0db6\">Pipeline</label><div class=\"sk-toggleable__content\"><pre>Pipeline(steps=[('preprocessor',\n",
       "                 ColumnTransformer(transformers=[('cat_scale',\n",
       "                                                  OneHotEncoder(handle_unknown='ignore'),\n",
       "                                                  Index(['Ship Mode', 'Segment', 'Country', 'City', 'State', 'Postal Code',\n",
       "       'Region', 'Category', 'Sub-Category'],\n",
       "      dtype='object')),\n",
       "                                                 ('num_scale', MinMaxScaler(),\n",
       "                                                  Index(['Sales', 'Quantity', 'Discount'], dtype='object'))])),\n",
       "                ('rf_model', RandomForestRegressor(random_state=42))],\n",
       "         verbose=1)</pre></div></div></div><div class=\"sk-serial\"><div class=\"sk-item sk-dashed-wrapped\"><div class=\"sk-label-container\"><div class=\"sk-label sk-toggleable\"><input class=\"sk-toggleable__control sk-hidden--visually\" id=\"77f78b24-86aa-4ec2-9c3f-7c7a618f766e\" type=\"checkbox\" ><label class=\"sk-toggleable__label\" for=\"77f78b24-86aa-4ec2-9c3f-7c7a618f766e\">preprocessor: ColumnTransformer</label><div class=\"sk-toggleable__content\"><pre>ColumnTransformer(transformers=[('cat_scale',\n",
       "                                 OneHotEncoder(handle_unknown='ignore'),\n",
       "                                 Index(['Ship Mode', 'Segment', 'Country', 'City', 'State', 'Postal Code',\n",
       "       'Region', 'Category', 'Sub-Category'],\n",
       "      dtype='object')),\n",
       "                                ('num_scale', MinMaxScaler(),\n",
       "                                 Index(['Sales', 'Quantity', 'Discount'], dtype='object'))])</pre></div></div></div><div class=\"sk-parallel\"><div class=\"sk-parallel-item\"><div class=\"sk-item\"><div class=\"sk-label-container\"><div class=\"sk-label sk-toggleable\"><input class=\"sk-toggleable__control sk-hidden--visually\" id=\"c66dc9b1-d9b3-47ca-93b8-a643ec3a1370\" type=\"checkbox\" ><label class=\"sk-toggleable__label\" for=\"c66dc9b1-d9b3-47ca-93b8-a643ec3a1370\">cat_scale</label><div class=\"sk-toggleable__content\"><pre>Index(['Ship Mode', 'Segment', 'Country', 'City', 'State', 'Postal Code',\n",
       "       'Region', 'Category', 'Sub-Category'],\n",
       "      dtype='object')</pre></div></div></div><div class=\"sk-serial\"><div class=\"sk-item\"><div class=\"sk-estimator sk-toggleable\"><input class=\"sk-toggleable__control sk-hidden--visually\" id=\"3c81f284-909b-406c-9321-d8be766c6f3b\" type=\"checkbox\" ><label class=\"sk-toggleable__label\" for=\"3c81f284-909b-406c-9321-d8be766c6f3b\">OneHotEncoder</label><div class=\"sk-toggleable__content\"><pre>OneHotEncoder(handle_unknown='ignore')</pre></div></div></div></div></div></div><div class=\"sk-parallel-item\"><div class=\"sk-item\"><div class=\"sk-label-container\"><div class=\"sk-label sk-toggleable\"><input class=\"sk-toggleable__control sk-hidden--visually\" id=\"fe66a22d-588d-45e6-8efd-c744f88b4720\" type=\"checkbox\" ><label class=\"sk-toggleable__label\" for=\"fe66a22d-588d-45e6-8efd-c744f88b4720\">num_scale</label><div class=\"sk-toggleable__content\"><pre>Index(['Sales', 'Quantity', 'Discount'], dtype='object')</pre></div></div></div><div class=\"sk-serial\"><div class=\"sk-item\"><div class=\"sk-estimator sk-toggleable\"><input class=\"sk-toggleable__control sk-hidden--visually\" id=\"cd85c4fd-a150-4c10-8cb8-cc69d4e6ba62\" type=\"checkbox\" ><label class=\"sk-toggleable__label\" for=\"cd85c4fd-a150-4c10-8cb8-cc69d4e6ba62\">MinMaxScaler</label><div class=\"sk-toggleable__content\"><pre>MinMaxScaler()</pre></div></div></div></div></div></div></div></div><div class=\"sk-item\"><div class=\"sk-estimator sk-toggleable\"><input class=\"sk-toggleable__control sk-hidden--visually\" id=\"1f683ac0-52fd-449d-ad93-ed76328b2c0e\" type=\"checkbox\" ><label class=\"sk-toggleable__label\" for=\"1f683ac0-52fd-449d-ad93-ed76328b2c0e\">RandomForestRegressor</label><div class=\"sk-toggleable__content\"><pre>RandomForestRegressor(random_state=42)</pre></div></div></div></div></div></div></div>"
      ],
      "text/plain": [
       "Pipeline(steps=[('preprocessor',\n",
       "                 ColumnTransformer(transformers=[('cat_scale',\n",
       "                                                  OneHotEncoder(handle_unknown='ignore'),\n",
       "                                                  Index(['Ship Mode', 'Segment', 'Country', 'City', 'State', 'Postal Code',\n",
       "       'Region', 'Category', 'Sub-Category'],\n",
       "      dtype='object')),\n",
       "                                                 ('num_scale', MinMaxScaler(),\n",
       "                                                  Index(['Sales', 'Quantity', 'Discount'], dtype='object'))])),\n",
       "                ('rf_model', RandomForestRegressor(random_state=42))],\n",
       "         verbose=1)"
      ]
     },
     "execution_count": 17,
     "metadata": {},
     "output_type": "execute_result"
    }
   ],
   "source": [
    "rf_model.fit(x_train, y_train)"
   ]
  },
  {
   "cell_type": "code",
   "execution_count": 18,
   "metadata": {},
   "outputs": [],
   "source": [
    "y_pred = rf_model.predict(x_test)"
   ]
  },
  {
   "cell_type": "code",
   "execution_count": 21,
   "metadata": {},
   "outputs": [
    {
     "name": "stdout",
     "output_type": "stream",
     "text": [
      "Mean Absolute Error (MAE): 25.893921115371793\n",
      "Mean Squared Error (MSE): 41168.526416329165\n",
      "Root Mean Squared Error (RMSE): 202.9002868808449\n",
      "Mean Absolute Percentage Error (MAPE): 1126639767620087.8\n"
     ]
    }
   ],
   "source": [
    "print('Mean Absolute Error (MAE):', mean_absolute_error(y_test, y_pred))\n",
    "print('Mean Squared Error (MSE):', mean_squared_error(y_test, y_pred))\n",
    "print('Root Mean Squared Error (RMSE):', np.sqrt(mean_squared_error(y_test, y_pred)))\n",
    "print('Mean Absolute Percentage Error (MAPE):', mean_absolute_percentage_error(y_test, y_pred))"
   ]
  },
  {
   "cell_type": "code",
   "execution_count": 23,
   "metadata": {},
   "outputs": [],
   "source": [
    "file_name = \"../models/model_v0.pkl\"\n",
    "pickle.dump(rf_model, open(file_name, \"wb\"))"
   ]
  },
  {
   "cell_type": "code",
   "execution_count": null,
   "metadata": {},
   "outputs": [],
   "source": []
  }
 ],
 "metadata": {
  "interpreter": {
   "hash": "2fb0f3cc85ff90d0e6b8d2e87ab38dc39031aadfd2204957fe99b82014522c30"
  },
  "kernelspec": {
   "display_name": "Python 3.9.7 64-bit ('.venv-notebook': venv)",
   "language": "python",
   "name": "python3"
  },
  "language_info": {
   "codemirror_mode": {
    "name": "ipython",
    "version": 3
   },
   "file_extension": ".py",
   "mimetype": "text/x-python",
   "name": "python",
   "nbconvert_exporter": "python",
   "pygments_lexer": "ipython3",
   "version": "3.9.7"
  },
  "orig_nbformat": 4
 },
 "nbformat": 4,
 "nbformat_minor": 2
}
