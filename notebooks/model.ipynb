{
 "cells": [
  {
   "cell_type": "code",
   "execution_count": 58,
   "metadata": {},
   "outputs": [],
   "source": [
    "import pandas as pd\n",
    "\n",
    "from sklearn.preprocessing import LabelEncoder, OneHotEncoder, MinMaxScaler\n",
    "from sklearn.compose import ColumnTransformer\n",
    "from sklearn.pipeline import Pipeline\n",
    "from sklearn.impute import KNNImputer\n",
    "import numpy as np\n",
    "from sklearn.model_selection import train_test_split\n",
    "from imblearn.over_sampling import SMOTE, ADASYN\n",
    "from sklearn import svm\n",
    "from sklearn.metrics import classification_report, precision_score, recall_score, f1_score, roc_auc_score, confusion_matrix\n",
    "from lightgbm import LGBMClassifier\n",
    "import matplotlib.pyplot as plt\n",
    "import itertools\n",
    "import pickle\n",
    "%matplotlib inline"
   ]
  },
  {
   "cell_type": "code",
   "execution_count": 59,
   "metadata": {},
   "outputs": [],
   "source": [
    "df = pd.read_csv('../data/raw/ds-jobs-train.csv')"
   ]
  },
  {
   "cell_type": "code",
   "execution_count": 60,
   "metadata": {},
   "outputs": [
    {
     "data": {
      "text/html": [
       "<div>\n",
       "<style scoped>\n",
       "    .dataframe tbody tr th:only-of-type {\n",
       "        vertical-align: middle;\n",
       "    }\n",
       "\n",
       "    .dataframe tbody tr th {\n",
       "        vertical-align: top;\n",
       "    }\n",
       "\n",
       "    .dataframe thead th {\n",
       "        text-align: right;\n",
       "    }\n",
       "</style>\n",
       "<table border=\"1\" class=\"dataframe\">\n",
       "  <thead>\n",
       "    <tr style=\"text-align: right;\">\n",
       "      <th></th>\n",
       "      <th>enrollee_id</th>\n",
       "      <th>city</th>\n",
       "      <th>city_development_index</th>\n",
       "      <th>gender</th>\n",
       "      <th>relevent_experience</th>\n",
       "      <th>enrolled_university</th>\n",
       "      <th>education_level</th>\n",
       "      <th>major_discipline</th>\n",
       "      <th>experience</th>\n",
       "      <th>company_size</th>\n",
       "      <th>company_type</th>\n",
       "      <th>last_new_job</th>\n",
       "      <th>training_hours</th>\n",
       "      <th>target</th>\n",
       "    </tr>\n",
       "  </thead>\n",
       "  <tbody>\n",
       "    <tr>\n",
       "      <th>0</th>\n",
       "      <td>8949</td>\n",
       "      <td>city_103</td>\n",
       "      <td>0.920</td>\n",
       "      <td>Male</td>\n",
       "      <td>Has relevent experience</td>\n",
       "      <td>no_enrollment</td>\n",
       "      <td>Graduate</td>\n",
       "      <td>STEM</td>\n",
       "      <td>&gt;20</td>\n",
       "      <td>NaN</td>\n",
       "      <td>NaN</td>\n",
       "      <td>1</td>\n",
       "      <td>36</td>\n",
       "      <td>1.0</td>\n",
       "    </tr>\n",
       "    <tr>\n",
       "      <th>1</th>\n",
       "      <td>29725</td>\n",
       "      <td>city_40</td>\n",
       "      <td>0.776</td>\n",
       "      <td>Male</td>\n",
       "      <td>No relevent experience</td>\n",
       "      <td>no_enrollment</td>\n",
       "      <td>Graduate</td>\n",
       "      <td>STEM</td>\n",
       "      <td>15</td>\n",
       "      <td>50-99</td>\n",
       "      <td>Pvt Ltd</td>\n",
       "      <td>&gt;4</td>\n",
       "      <td>47</td>\n",
       "      <td>0.0</td>\n",
       "    </tr>\n",
       "    <tr>\n",
       "      <th>2</th>\n",
       "      <td>11561</td>\n",
       "      <td>city_21</td>\n",
       "      <td>0.624</td>\n",
       "      <td>NaN</td>\n",
       "      <td>No relevent experience</td>\n",
       "      <td>Full time course</td>\n",
       "      <td>Graduate</td>\n",
       "      <td>STEM</td>\n",
       "      <td>5</td>\n",
       "      <td>NaN</td>\n",
       "      <td>NaN</td>\n",
       "      <td>never</td>\n",
       "      <td>83</td>\n",
       "      <td>0.0</td>\n",
       "    </tr>\n",
       "    <tr>\n",
       "      <th>3</th>\n",
       "      <td>33241</td>\n",
       "      <td>city_115</td>\n",
       "      <td>0.789</td>\n",
       "      <td>NaN</td>\n",
       "      <td>No relevent experience</td>\n",
       "      <td>NaN</td>\n",
       "      <td>Graduate</td>\n",
       "      <td>Business Degree</td>\n",
       "      <td>&lt;1</td>\n",
       "      <td>NaN</td>\n",
       "      <td>Pvt Ltd</td>\n",
       "      <td>never</td>\n",
       "      <td>52</td>\n",
       "      <td>1.0</td>\n",
       "    </tr>\n",
       "    <tr>\n",
       "      <th>4</th>\n",
       "      <td>666</td>\n",
       "      <td>city_162</td>\n",
       "      <td>0.767</td>\n",
       "      <td>Male</td>\n",
       "      <td>Has relevent experience</td>\n",
       "      <td>no_enrollment</td>\n",
       "      <td>Masters</td>\n",
       "      <td>STEM</td>\n",
       "      <td>&gt;20</td>\n",
       "      <td>50-99</td>\n",
       "      <td>Funded Startup</td>\n",
       "      <td>4</td>\n",
       "      <td>8</td>\n",
       "      <td>0.0</td>\n",
       "    </tr>\n",
       "  </tbody>\n",
       "</table>\n",
       "</div>"
      ],
      "text/plain": [
       "   enrollee_id      city  city_development_index gender  \\\n",
       "0         8949  city_103                   0.920   Male   \n",
       "1        29725   city_40                   0.776   Male   \n",
       "2        11561   city_21                   0.624    NaN   \n",
       "3        33241  city_115                   0.789    NaN   \n",
       "4          666  city_162                   0.767   Male   \n",
       "\n",
       "       relevent_experience enrolled_university education_level  \\\n",
       "0  Has relevent experience       no_enrollment        Graduate   \n",
       "1   No relevent experience       no_enrollment        Graduate   \n",
       "2   No relevent experience    Full time course        Graduate   \n",
       "3   No relevent experience                 NaN        Graduate   \n",
       "4  Has relevent experience       no_enrollment         Masters   \n",
       "\n",
       "  major_discipline experience company_size    company_type last_new_job  \\\n",
       "0             STEM        >20          NaN             NaN            1   \n",
       "1             STEM         15        50-99         Pvt Ltd           >4   \n",
       "2             STEM          5          NaN             NaN        never   \n",
       "3  Business Degree         <1          NaN         Pvt Ltd        never   \n",
       "4             STEM        >20        50-99  Funded Startup            4   \n",
       "\n",
       "   training_hours  target  \n",
       "0              36     1.0  \n",
       "1              47     0.0  \n",
       "2              83     0.0  \n",
       "3              52     1.0  \n",
       "4               8     0.0  "
      ]
     },
     "execution_count": 60,
     "metadata": {},
     "output_type": "execute_result"
    }
   ],
   "source": [
    "df.head()"
   ]
  },
  {
   "cell_type": "code",
   "execution_count": 61,
   "metadata": {},
   "outputs": [],
   "source": [
    "ohe = OneHotEncoder()\n",
    "le = LabelEncoder()\n",
    "smote = SMOTE(random_state=42)"
   ]
  },
  {
   "cell_type": "code",
   "execution_count": 62,
   "metadata": {},
   "outputs": [],
   "source": [
    "def handle_encoding(df: DataFrame) -> DataFrame:\n",
    "  gender_map = {\n",
    "        'Female': 2,\n",
    "        'Male': 1,\n",
    "        'Other': 0\n",
    "         }\n",
    "\n",
    "  relevent_experience_map = {\n",
    "      'Has relevent experience':  1,\n",
    "      'No relevent experience':    0\n",
    "  }\n",
    "\n",
    "  enrolled_university_map = {\n",
    "      'no_enrollment'   :  0,\n",
    "      'Full time course':    1, \n",
    "      'Part time course':    2 \n",
    "  }\n",
    "      \n",
    "  education_level_map = {\n",
    "      'Primary School' :    0,\n",
    "      'Graduate'       :    2,\n",
    "      'Masters'        :    3, \n",
    "      'High School'    :    1, \n",
    "      'Phd'            :    4\n",
    "      } \n",
    "      \n",
    "  major_map ={ \n",
    "      'STEM'                   :    0,\n",
    "      'Business Degree'        :    1, \n",
    "      'Arts'                   :    2, \n",
    "      'Humanities'             :    3, \n",
    "      'No Major'               :    4, \n",
    "      'Other'                  :    5 \n",
    "  }\n",
    "      \n",
    "  experience_map = {\n",
    "      '<1'      :    0,\n",
    "      '1'       :    1, \n",
    "      '2'       :    2, \n",
    "      '3'       :    3, \n",
    "      '4'       :    4, \n",
    "      '5'       :    5,\n",
    "      '6'       :    6,\n",
    "      '7'       :    7,\n",
    "      '8'       :    8, \n",
    "      '9'       :    9, \n",
    "      '10'      :    10, \n",
    "      '11'      :    11,\n",
    "      '12'      :    12,\n",
    "      '13'      :    13, \n",
    "      '14'      :    14, \n",
    "      '15'      :    15, \n",
    "      '16'      :    16,\n",
    "      '17'      :    17,\n",
    "      '18'      :    18,\n",
    "      '19'      :    19, \n",
    "      '20'      :    20, \n",
    "      '>20'     :    21\n",
    "  } \n",
    "      \n",
    "  company_type_map = {\n",
    "      'Pvt Ltd'               :    0,\n",
    "      'Funded Startup'        :    1, \n",
    "      'Early Stage Startup'   :    2, \n",
    "      'Other'                 :    3, \n",
    "      'Public Sector'         :    4, \n",
    "      'NGO'                   :    5\n",
    "  }\n",
    "\n",
    "  company_size_map = {\n",
    "      '<10'          :    0,\n",
    "      '10/49'        :    1, \n",
    "      '100-500'      :    2, \n",
    "      '1000-4999'    :    3, \n",
    "      '10000+'       :    4, \n",
    "      '50-99'        :    5, \n",
    "      '500-999'      :    6, \n",
    "      '5000-9999'    :    7\n",
    "  }\n",
    "      \n",
    "  last_new_job_map = {\n",
    "      'never'        :    0,\n",
    "      '1'            :    1, \n",
    "      '2'            :    2, \n",
    "      '3'            :    3, \n",
    "      '4'            :    4, \n",
    "      '>4'           :    5\n",
    "  }\n",
    "\n",
    "  df.loc[:,'education_level'] = df['education_level'].map(education_level_map)\n",
    "  df.loc[:,'company_size'] = df['company_size'].map(company_size_map)\n",
    "  df.loc[:,'company_type'] = df['company_type'].map(company_type_map)\n",
    "  df.loc[:,'last_new_job'] = df['last_new_job'].map(last_new_job_map)\n",
    "  df.loc[:,'major_discipline'] = df['major_discipline'].map(major_map)\n",
    "  df.loc[:,'enrolled_university'] = df['enrolled_university'].map(enrolled_university_map)\n",
    "  df.loc[:,'relevent_experience'] = df['relevent_experience'].map(relevent_experience_map)\n",
    "  df.loc[:,'gender'] = df['gender'].map(gender_map)\n",
    "  df.loc[:,'experience'] = df['experience'].map(experience_map)\n",
    "\n",
    "  df.loc[:, 'city'] = le.fit_transform(df.loc[:, 'city'])\n",
    "\n",
    "  return df"
   ]
  },
  {
   "cell_type": "code",
   "execution_count": 63,
   "metadata": {},
   "outputs": [],
   "source": [
    "def handle_missing_data(df: DataFrame) -> DataFrame:\n",
    "  missing_cols = df.columns[df.isna().any()].tolist()\n",
    "\n",
    "  df_missing = df[['enrollee_id'] + missing_cols]\n",
    "  df_non_missing = df.drop(missing_cols, axis=1)\n",
    "\n",
    "  knn_imputer = KNNImputer(n_neighbors=1)\n",
    "\n",
    "  X = np.round(knn_imputer.fit_transform(df_missing))\n",
    "\n",
    "  df_missing = pd.DataFrame(X, columns = df_missing.columns)\n",
    "\n",
    "  df_merge = pd.merge(df_missing, df_non_missing, on='enrollee_id')\n",
    "\n",
    "  return df_merge"
   ]
  },
  {
   "cell_type": "code",
   "execution_count": 64,
   "metadata": {},
   "outputs": [],
   "source": [
    "def normalize_dataset(df):\n",
    "  df = handle_encoding(df)\n",
    "  df = handle_missing_data(df)\n",
    "\n",
    "  return df"
   ]
  },
  {
   "cell_type": "code",
   "execution_count": 65,
   "metadata": {},
   "outputs": [],
   "source": [
    "df_train_normalized = df.copy()\n",
    "df_train_normalized = normalize_dataset(df_train_normalized)"
   ]
  },
  {
   "cell_type": "code",
   "execution_count": 66,
   "metadata": {},
   "outputs": [],
   "source": [
    "numeric_data = ['city_development_index', 'training_hours']\n",
    "categoric_data = ['relevent_experience', 'enrolled_university', 'education_level', 'major_discipline', 'experience', 'company_size',\n",
    "                  'company_type', 'last_new_job', 'gender']"
   ]
  },
  {
   "cell_type": "code",
   "execution_count": 67,
   "metadata": {},
   "outputs": [
    {
     "data": {
      "text/plain": [
       "Pipeline(steps=[('preprocessor',\n",
       "                 ColumnTransformer(transformers=[('cat_scale', OneHotEncoder(),\n",
       "                                                  ['relevent_experience',\n",
       "                                                   'enrolled_university',\n",
       "                                                   'education_level',\n",
       "                                                   'major_discipline',\n",
       "                                                   'experience', 'company_size',\n",
       "                                                   'company_type',\n",
       "                                                   'last_new_job', 'gender']),\n",
       "                                                 ('num_scale', MinMaxScaler(),\n",
       "                                                  ['city_development_index',\n",
       "                                                   'training_hours'])])),\n",
       "                ('lgb', LGBMClassifier())],\n",
       "         verbose=1)"
      ]
     },
     "execution_count": 67,
     "metadata": {},
     "output_type": "execute_result"
    }
   ],
   "source": [
    "transformers=[('cat_scale', OneHotEncoder(), categoric_data),\n",
    "             ('num_scale', MinMaxScaler(), numeric_data)]\n",
    "\n",
    "preprocessor = ColumnTransformer(transformers=transformers)\n",
    "\n",
    "lgb = LGBMClassifier()\n",
    "\n",
    "steps = [('preprocessor', preprocessor),\n",
    "        ('lgb', lgb)]\n",
    "\n",
    "lgb_model = Pipeline(steps=steps, verbose=1)\n",
    "lgb_model"
   ]
  },
  {
   "cell_type": "code",
   "execution_count": 68,
   "metadata": {},
   "outputs": [],
   "source": [
    "df_train_normalized = df_train_normalized.astype({'relevent_experience': 'category', 'enrolled_university': 'category', 'education_level': 'category',\n",
    "                        'major_discipline': 'category', 'experience': 'category', 'company_size': 'category', 'company_type': 'category',\n",
    "                        'last_new_job': 'category', 'gender': 'category'})"
   ]
  },
  {
   "cell_type": "code",
   "execution_count": 69,
   "metadata": {},
   "outputs": [],
   "source": [
    "X = df_train_normalized.drop(['enrollee_id', 'target'], axis = 1)\n",
    "Y = df_train_normalized['target']"
   ]
  },
  {
   "cell_type": "code",
   "execution_count": 70,
   "metadata": {},
   "outputs": [],
   "source": [
    "X_smote, Y_smote = smote.fit_resample(X, Y)"
   ]
  },
  {
   "cell_type": "code",
   "execution_count": 71,
   "metadata": {},
   "outputs": [],
   "source": [
    "X_train, X_test, Y_train, Y_test = train_test_split(X_smote, Y_smote, test_size=0.3, random_state=42)"
   ]
  },
  {
   "cell_type": "code",
   "execution_count": 72,
   "metadata": {},
   "outputs": [
    {
     "name": "stdout",
     "output_type": "stream",
     "text": [
      "[Pipeline] ...... (step 1 of 2) Processing preprocessor, total=   0.0s\n",
      "[Pipeline] ............... (step 2 of 2) Processing lgb, total=   0.3s\n"
     ]
    },
    {
     "data": {
      "text/plain": [
       "Pipeline(steps=[('preprocessor',\n",
       "                 ColumnTransformer(transformers=[('cat_scale', OneHotEncoder(),\n",
       "                                                  ['relevent_experience',\n",
       "                                                   'enrolled_university',\n",
       "                                                   'education_level',\n",
       "                                                   'major_discipline',\n",
       "                                                   'experience', 'company_size',\n",
       "                                                   'company_type',\n",
       "                                                   'last_new_job', 'gender']),\n",
       "                                                 ('num_scale', MinMaxScaler(),\n",
       "                                                  ['city_development_index',\n",
       "                                                   'training_hours'])])),\n",
       "                ('lgb', LGBMClassifier())],\n",
       "         verbose=1)"
      ]
     },
     "execution_count": 72,
     "metadata": {},
     "output_type": "execute_result"
    }
   ],
   "source": [
    "lgb_model.fit(X_train, Y_train)"
   ]
  },
  {
   "cell_type": "code",
   "execution_count": 73,
   "metadata": {},
   "outputs": [],
   "source": [
    "def plot_confusion_matrix(cm, classes,\n",
    "                          normalize=False,\n",
    "                          title='Confusion matrix',\n",
    "                          cmap=plt.cm.Blues):\n",
    "    \"\"\"\n",
    "    This function prints and plots the confusion matrix.\n",
    "    Normalization can be applied by setting `normalize=True`.\n",
    "    \"\"\"\n",
    "    plt.imshow(cm, interpolation='nearest', cmap=cmap)\n",
    "    plt.title(title)\n",
    "    plt.colorbar()\n",
    "    tick_marks = np.arange(len(classes))\n",
    "    plt.xticks(tick_marks, classes, rotation=0)\n",
    "    plt.yticks(tick_marks, classes)\n",
    "\n",
    "    if normalize:\n",
    "        cm = cm.astype('float') / cm.sum(axis=1)[:, np.newaxis]\n",
    "        #print(\"Normalized confusion matrix\")\n",
    "    else:\n",
    "        1#print('Confusion matrix, without normalization')\n",
    "\n",
    "    #print(cm)\n",
    "\n",
    "    thresh = cm.max() / 2.\n",
    "    for i, j in itertools.product(range(cm.shape[0]), range(cm.shape[1])):\n",
    "        plt.text(j, i, cm[i, j],\n",
    "                 horizontalalignment=\"center\",\n",
    "                 color=\"white\" if cm[i, j] > thresh else \"black\")\n",
    "\n",
    "    plt.tight_layout()\n",
    "    plt.ylabel('True label')\n",
    "    plt.xlabel('Predicted label')"
   ]
  },
  {
   "cell_type": "code",
   "execution_count": 74,
   "metadata": {},
   "outputs": [],
   "source": [
    "def print_results(y_pred, y_test, title='Results'):\n",
    "  print(f'******* {title} *****')\n",
    "  print(f'Classification Report: \\n{classification_report(y_test, y_pred)}')\n",
    "  print(f'Precision: {precision_score(y_test, y_pred)}')\n",
    "  print(f'Recall: {recall_score(y_test, y_pred)}')\n",
    "  print(f'F1 Score: {f1_score(y_test, y_pred)}')\n",
    "  print(f'ROC AUC: {roc_auc_score(y_test, y_pred)}')\n",
    "\n",
    "  plot_confusion_matrix(confusion_matrix(y_test, y_pred), classes=[0,1], title = title)"
   ]
  },
  {
   "cell_type": "code",
   "execution_count": 75,
   "metadata": {},
   "outputs": [
    {
     "name": "stdout",
     "output_type": "stream",
     "text": [
      "******* LightGBM with SMOTE *****\n",
      "Classification Report: \n",
      "              precision    recall  f1-score   support\n",
      "\n",
      "         0.0       0.82      0.90      0.86      4325\n",
      "         1.0       0.89      0.81      0.85      4304\n",
      "\n",
      "    accuracy                           0.85      8629\n",
      "   macro avg       0.86      0.85      0.85      8629\n",
      "weighted avg       0.86      0.85      0.85      8629\n",
      "\n",
      "Precision: 0.8871008939974457\n",
      "Recall: 0.8069237918215614\n",
      "F1 Score: 0.845114977491179\n",
      "ROC AUC: 0.8523636300148268\n"
     ]
    },
    {
     "data": {
      "image/png": "[encoded data removed]",
      "text/plain": [
       "<Figure size 432x288 with 2 Axes>"
      ]
     },
     "metadata": {
      "needs_background": "light"
     },
     "output_type": "display_data"
    }
   ],
   "source": [
    "print_results(lgb_model.predict(X_test), Y_test, title='LightGBM with SMOTE')"
   ]
  },
  {
   "cell_type": "code",
   "execution_count": 76,
   "metadata": {},
   "outputs": [],
   "source": [
    "file_name = \"../models/model.pkl\"\n",
    "pickle.dump(lgb_model, open(file_name, \"wb\"))"
   ]
  },
  {
   "cell_type": "code",
   "execution_count": null,
   "metadata": {},
   "outputs": [],
   "source": []
  }
 ],
 "metadata": {
  "interpreter": {
   "hash": "2fb0f3cc85ff90d0e6b8d2e87ab38dc39031aadfd2204957fe99b82014522c30"
  },
  "kernelspec": {
   "display_name": "Python 3.9.7 64-bit ('.venv-notebook': venv)",
   "language": "python",
   "name": "python3"
  },
  "language_info": {
   "codemirror_mode": {
    "name": "ipython",
    "version": 3
   },
   "file_extension": ".py",
   "mimetype": "text/x-python",
   "name": "python",
   "nbconvert_exporter": "python",
   "pygments_lexer": "ipython3",
   "version": "3.9.7"
  },
  "orig_nbformat": 4
 },
 "nbformat": 4,
 "nbformat_minor": 2
}
