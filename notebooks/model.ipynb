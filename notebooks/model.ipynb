{
 "cells": [
  {
   "cell_type": "code",
   "execution_count": 2,
   "metadata": {},
   "outputs": [],
   "source": [
    "import pandas as pd\n",
    "import numpy as np\n",
    "from sklearn.model_selection import train_test_split\n",
    "from sklearn.preprocessing import MinMaxScaler, OneHotEncoder\n",
    "from sklearn.compose import ColumnTransformer\n",
    "from sklearn.ensemble import RandomForestRegressor\n",
    "from sklearn.pipeline import Pipeline\n",
    "from sklearn import set_config\n",
    "from sklearn.metrics import mean_absolute_error, mean_squared_error, mean_absolute_percentage_error\n",
    "import pickle"
   ]
  },
  {
   "cell_type": "code",
   "execution_count": 3,
   "metadata": {},
   "outputs": [],
   "source": [
    "set_config(display='diagram')"
   ]
  },
  {
   "cell_type": "code",
   "execution_count": 4,
   "metadata": {},
   "outputs": [],
   "source": [
    "df = pd.read_csv('../data/raw/SampleSuperstore.csv')"
   ]
  },
  {
   "cell_type": "code",
   "execution_count": 5,
   "metadata": {},
   "outputs": [
    {
     "data": {
      "text/html": [
       "<div>\n",
       "<style scoped>\n",
       "    .dataframe tbody tr th:only-of-type {\n",
       "        vertical-align: middle;\n",
       "    }\n",
       "\n",
       "    .dataframe tbody tr th {\n",
       "        vertical-align: top;\n",
       "    }\n",
       "\n",
       "    .dataframe thead th {\n",
       "        text-align: right;\n",
       "    }\n",
       "</style>\n",
       "<table border=\"1\" class=\"dataframe\">\n",
       "  <thead>\n",
       "    <tr style=\"text-align: right;\">\n",
       "      <th></th>\n",
       "      <th>Ship Mode</th>\n",
       "      <th>Segment</th>\n",
       "      <th>Country</th>\n",
       "      <th>City</th>\n",
       "      <th>State</th>\n",
       "      <th>Postal Code</th>\n",
       "      <th>Region</th>\n",
       "      <th>Category</th>\n",
       "      <th>Sub-Category</th>\n",
       "      <th>Sales</th>\n",
       "      <th>Quantity</th>\n",
       "      <th>Discount</th>\n",
       "      <th>Profit</th>\n",
       "    </tr>\n",
       "  </thead>\n",
       "  <tbody>\n",
       "    <tr>\n",
       "      <th>0</th>\n",
       "      <td>Second Class</td>\n",
       "      <td>Consumer</td>\n",
       "      <td>United States</td>\n",
       "      <td>Henderson</td>\n",
       "      <td>Kentucky</td>\n",
       "      <td>42420</td>\n",
       "      <td>South</td>\n",
       "      <td>Furniture</td>\n",
       "      <td>Bookcases</td>\n",
       "      <td>261.9600</td>\n",
       "      <td>2</td>\n",
       "      <td>0.00</td>\n",
       "      <td>41.9136</td>\n",
       "    </tr>\n",
       "    <tr>\n",
       "      <th>1</th>\n",
       "      <td>Second Class</td>\n",
       "      <td>Consumer</td>\n",
       "      <td>United States</td>\n",
       "      <td>Henderson</td>\n",
       "      <td>Kentucky</td>\n",
       "      <td>42420</td>\n",
       "      <td>South</td>\n",
       "      <td>Furniture</td>\n",
       "      <td>Chairs</td>\n",
       "      <td>731.9400</td>\n",
       "      <td>3</td>\n",
       "      <td>0.00</td>\n",
       "      <td>219.5820</td>\n",
       "    </tr>\n",
       "    <tr>\n",
       "      <th>2</th>\n",
       "      <td>Second Class</td>\n",
       "      <td>Corporate</td>\n",
       "      <td>United States</td>\n",
       "      <td>Los Angeles</td>\n",
       "      <td>California</td>\n",
       "      <td>90036</td>\n",
       "      <td>West</td>\n",
       "      <td>Office Supplies</td>\n",
       "      <td>Labels</td>\n",
       "      <td>14.6200</td>\n",
       "      <td>2</td>\n",
       "      <td>0.00</td>\n",
       "      <td>6.8714</td>\n",
       "    </tr>\n",
       "    <tr>\n",
       "      <th>3</th>\n",
       "      <td>Standard Class</td>\n",
       "      <td>Consumer</td>\n",
       "      <td>United States</td>\n",
       "      <td>Fort Lauderdale</td>\n",
       "      <td>Florida</td>\n",
       "      <td>33311</td>\n",
       "      <td>South</td>\n",
       "      <td>Furniture</td>\n",
       "      <td>Tables</td>\n",
       "      <td>957.5775</td>\n",
       "      <td>5</td>\n",
       "      <td>0.45</td>\n",
       "      <td>-383.0310</td>\n",
       "    </tr>\n",
       "    <tr>\n",
       "      <th>4</th>\n",
       "      <td>Standard Class</td>\n",
       "      <td>Consumer</td>\n",
       "      <td>United States</td>\n",
       "      <td>Fort Lauderdale</td>\n",
       "      <td>Florida</td>\n",
       "      <td>33311</td>\n",
       "      <td>South</td>\n",
       "      <td>Office Supplies</td>\n",
       "      <td>Storage</td>\n",
       "      <td>22.3680</td>\n",
       "      <td>2</td>\n",
       "      <td>0.20</td>\n",
       "      <td>2.5164</td>\n",
       "    </tr>\n",
       "    <tr>\n",
       "      <th>...</th>\n",
       "      <td>...</td>\n",
       "      <td>...</td>\n",
       "      <td>...</td>\n",
       "      <td>...</td>\n",
       "      <td>...</td>\n",
       "      <td>...</td>\n",
       "      <td>...</td>\n",
       "      <td>...</td>\n",
       "      <td>...</td>\n",
       "      <td>...</td>\n",
       "      <td>...</td>\n",
       "      <td>...</td>\n",
       "      <td>...</td>\n",
       "    </tr>\n",
       "    <tr>\n",
       "      <th>9989</th>\n",
       "      <td>Second Class</td>\n",
       "      <td>Consumer</td>\n",
       "      <td>United States</td>\n",
       "      <td>Miami</td>\n",
       "      <td>Florida</td>\n",
       "      <td>33180</td>\n",
       "      <td>South</td>\n",
       "      <td>Furniture</td>\n",
       "      <td>Furnishings</td>\n",
       "      <td>25.2480</td>\n",
       "      <td>3</td>\n",
       "      <td>0.20</td>\n",
       "      <td>4.1028</td>\n",
       "    </tr>\n",
       "    <tr>\n",
       "      <th>9990</th>\n",
       "      <td>Standard Class</td>\n",
       "      <td>Consumer</td>\n",
       "      <td>United States</td>\n",
       "      <td>Costa Mesa</td>\n",
       "      <td>California</td>\n",
       "      <td>92627</td>\n",
       "      <td>West</td>\n",
       "      <td>Furniture</td>\n",
       "      <td>Furnishings</td>\n",
       "      <td>91.9600</td>\n",
       "      <td>2</td>\n",
       "      <td>0.00</td>\n",
       "      <td>15.6332</td>\n",
       "    </tr>\n",
       "    <tr>\n",
       "      <th>9991</th>\n",
       "      <td>Standard Class</td>\n",
       "      <td>Consumer</td>\n",
       "      <td>United States</td>\n",
       "      <td>Costa Mesa</td>\n",
       "      <td>California</td>\n",
       "      <td>92627</td>\n",
       "      <td>West</td>\n",
       "      <td>Technology</td>\n",
       "      <td>Phones</td>\n",
       "      <td>258.5760</td>\n",
       "      <td>2</td>\n",
       "      <td>0.20</td>\n",
       "      <td>19.3932</td>\n",
       "    </tr>\n",
       "    <tr>\n",
       "      <th>9992</th>\n",
       "      <td>Standard Class</td>\n",
       "      <td>Consumer</td>\n",
       "      <td>United States</td>\n",
       "      <td>Costa Mesa</td>\n",
       "      <td>California</td>\n",
       "      <td>92627</td>\n",
       "      <td>West</td>\n",
       "      <td>Office Supplies</td>\n",
       "      <td>Paper</td>\n",
       "      <td>29.6000</td>\n",
       "      <td>4</td>\n",
       "      <td>0.00</td>\n",
       "      <td>13.3200</td>\n",
       "    </tr>\n",
       "    <tr>\n",
       "      <th>9993</th>\n",
       "      <td>Second Class</td>\n",
       "      <td>Consumer</td>\n",
       "      <td>United States</td>\n",
       "      <td>Westminster</td>\n",
       "      <td>California</td>\n",
       "      <td>92683</td>\n",
       "      <td>West</td>\n",
       "      <td>Office Supplies</td>\n",
       "      <td>Appliances</td>\n",
       "      <td>243.1600</td>\n",
       "      <td>2</td>\n",
       "      <td>0.00</td>\n",
       "      <td>72.9480</td>\n",
       "    </tr>\n",
       "  </tbody>\n",
       "</table>\n",
       "<p>9994 rows × 13 columns</p>\n",
       "</div>"
      ],
      "text/plain": [
       "           Ship Mode    Segment        Country             City       State  \\\n",
       "0       Second Class   Consumer  United States        Henderson    Kentucky   \n",
       "1       Second Class   Consumer  United States        Henderson    Kentucky   \n",
       "2       Second Class  Corporate  United States      Los Angeles  California   \n",
       "3     Standard Class   Consumer  United States  Fort Lauderdale     Florida   \n",
       "4     Standard Class   Consumer  United States  Fort Lauderdale     Florida   \n",
       "...              ...        ...            ...              ...         ...   \n",
       "9989    Second Class   Consumer  United States            Miami     Florida   \n",
       "9990  Standard Class   Consumer  United States       Costa Mesa  California   \n",
       "9991  Standard Class   Consumer  United States       Costa Mesa  California   \n",
       "9992  Standard Class   Consumer  United States       Costa Mesa  California   \n",
       "9993    Second Class   Consumer  United States      Westminster  California   \n",
       "\n",
       "      Postal Code Region         Category Sub-Category     Sales  Quantity  \\\n",
       "0           42420  South        Furniture    Bookcases  261.9600         2   \n",
       "1           42420  South        Furniture       Chairs  731.9400         3   \n",
       "2           90036   West  Office Supplies       Labels   14.6200         2   \n",
       "3           33311  South        Furniture       Tables  957.5775         5   \n",
       "4           33311  South  Office Supplies      Storage   22.3680         2   \n",
       "...           ...    ...              ...          ...       ...       ...   \n",
       "9989        33180  South        Furniture  Furnishings   25.2480         3   \n",
       "9990        92627   West        Furniture  Furnishings   91.9600         2   \n",
       "9991        92627   West       Technology       Phones  258.5760         2   \n",
       "9992        92627   West  Office Supplies        Paper   29.6000         4   \n",
       "9993        92683   West  Office Supplies   Appliances  243.1600         2   \n",
       "\n",
       "      Discount    Profit  \n",
       "0         0.00   41.9136  \n",
       "1         0.00  219.5820  \n",
       "2         0.00    6.8714  \n",
       "3         0.45 -383.0310  \n",
       "4         0.20    2.5164  \n",
       "...        ...       ...  \n",
       "9989      0.20    4.1028  \n",
       "9990      0.00   15.6332  \n",
       "9991      0.20   19.3932  \n",
       "9992      0.00   13.3200  \n",
       "9993      0.00   72.9480  \n",
       "\n",
       "[9994 rows x 13 columns]"
      ]
     },
     "execution_count": 5,
     "metadata": {},
     "output_type": "execute_result"
    }
   ],
   "source": [
    "# todo: analisar como tratar coluna City\n",
    "# esta coluna possui 531 valores únicos, e assim fica difícil dividir o dataset e depois\n",
    "# realizar o OneHotEncoder, pois algumas categorias não aparecem no conjunto de treinamento\n",
    "# e assim ocorre um error de categoria não encontrada\n",
    "df"
   ]
  },
  {
   "cell_type": "code",
   "execution_count": 6,
   "metadata": {},
   "outputs": [],
   "source": [
    "# todo: analisar colunas para saber quais podem ser removidas\n",
    "df['Postal Code'] = df['Postal Code'].astype('object')"
   ]
  },
  {
   "cell_type": "code",
   "execution_count": 7,
   "metadata": {},
   "outputs": [],
   "source": [
    "numeric_data = df.loc[:,'Ship Mode':'Discount'].select_dtypes(include=['int64', 'float64']).columns\n",
    "categoric_data = df.loc[:,'Ship Mode':'Discount'].select_dtypes(include=['object']).columns"
   ]
  },
  {
   "cell_type": "code",
   "execution_count": 8,
   "metadata": {},
   "outputs": [
    {
     "name": "stdout",
     "output_type": "stream",
     "text": [
      "Amostras de treino:\n",
      " * X_train: (6995, 12)\n",
      " * y_train: (6995,)\n",
      "Amostras de teste:\n",
      " * X_test: (2999, 12)\n",
      " * y_test: (2999,)\n"
     ]
    }
   ],
   "source": [
    "x = df.drop(['Profit'], axis=1)\n",
    "y = df['Profit']\n",
    "\n",
    "x_train, x_test, y_train, y_test = train_test_split(x, y, test_size=0.3, random_state=42)\n",
    "\n",
    "print('Amostras de treino:')\n",
    "print(f' * X_train: {x_train.shape}')\n",
    "print(f' * y_train: {y_train.shape}')\n",
    "\n",
    "print('Amostras de teste:')\n",
    "print(f' * X_test: {x_test.shape}')\n",
    "print(f' * y_test: {y_test.shape}')"
   ]
  },
  {
   "cell_type": "code",
   "execution_count": 9,
   "metadata": {},
   "outputs": [],
   "source": [
    "# todo: verificar como remover o comando handle_unknown='ignore' (ele trata o erro de categorias)\n",
    "# descrito anteriormente\n",
    "\n",
    "transformers=[('cat_scale', OneHotEncoder(handle_unknown='ignore'), categoric_data),\n",
    "             ('num_scale', MinMaxScaler(), numeric_data)]\n",
    "\n",
    "preprocessor = ColumnTransformer(transformers=transformers)"
   ]
  },
  {
   "cell_type": "code",
   "execution_count": 10,
   "metadata": {},
   "outputs": [
    {
     "data": {
      "text/html": [
       "<style>#sk-39d3dfad-c462-4752-9935-c02f988b0e36 {color: black;background-color: white;}#sk-39d3dfad-c462-4752-9935-c02f988b0e36 pre{padding: 0;}#sk-39d3dfad-c462-4752-9935-c02f988b0e36 div.sk-toggleable {background-color: white;}#sk-39d3dfad-c462-4752-9935-c02f988b0e36 label.sk-toggleable__label {cursor: pointer;display: block;width: 100%;margin-bottom: 0;padding: 0.3em;box-sizing: border-box;text-align: center;}#sk-39d3dfad-c462-4752-9935-c02f988b0e36 div.sk-toggleable__content {max-height: 0;max-width: 0;overflow: hidden;text-align: left;background-color: #f0f8ff;}#sk-39d3dfad-c462-4752-9935-c02f988b0e36 div.sk-toggleable__content pre {margin: 0.2em;color: black;border-radius: 0.25em;background-color: #f0f8ff;}#sk-39d3dfad-c462-4752-9935-c02f988b0e36 input.sk-toggleable__control:checked~div.sk-toggleable__content {max-height: 200px;max-width: 100%;overflow: auto;}#sk-39d3dfad-c462-4752-9935-c02f988b0e36 div.sk-estimator input.sk-toggleable__control:checked~label.sk-toggleable__label {background-color: #d4ebff;}#sk-39d3dfad-c462-4752-9935-c02f988b0e36 div.sk-label input.sk-toggleable__control:checked~label.sk-toggleable__label {background-color: #d4ebff;}#sk-39d3dfad-c462-4752-9935-c02f988b0e36 input.sk-hidden--visually {border: 0;clip: rect(1px 1px 1px 1px);clip: rect(1px, 1px, 1px, 1px);height: 1px;margin: -1px;overflow: hidden;padding: 0;position: absolute;width: 1px;}#sk-39d3dfad-c462-4752-9935-c02f988b0e36 div.sk-estimator {font-family: monospace;background-color: #f0f8ff;border: 1px dotted black;border-radius: 0.25em;box-sizing: border-box;margin-bottom: 0.5em;}#sk-39d3dfad-c462-4752-9935-c02f988b0e36 div.sk-estimator:hover {background-color: #d4ebff;}#sk-39d3dfad-c462-4752-9935-c02f988b0e36 div.sk-parallel-item::after {content: \"\";width: 100%;border-bottom: 1px solid gray;flex-grow: 1;}#sk-39d3dfad-c462-4752-9935-c02f988b0e36 div.sk-label:hover label.sk-toggleable__label {background-color: #d4ebff;}#sk-39d3dfad-c462-4752-9935-c02f988b0e36 div.sk-serial::before {content: \"\";position: absolute;border-left: 1px solid gray;box-sizing: border-box;top: 2em;bottom: 0;left: 50%;}#sk-39d3dfad-c462-4752-9935-c02f988b0e36 div.sk-serial {display: flex;flex-direction: column;align-items: center;background-color: white;padding-right: 0.2em;padding-left: 0.2em;}#sk-39d3dfad-c462-4752-9935-c02f988b0e36 div.sk-item {z-index: 1;}#sk-39d3dfad-c462-4752-9935-c02f988b0e36 div.sk-parallel {display: flex;align-items: stretch;justify-content: center;background-color: white;}#sk-39d3dfad-c462-4752-9935-c02f988b0e36 div.sk-parallel::before {content: \"\";position: absolute;border-left: 1px solid gray;box-sizing: border-box;top: 2em;bottom: 0;left: 50%;}#sk-39d3dfad-c462-4752-9935-c02f988b0e36 div.sk-parallel-item {display: flex;flex-direction: column;position: relative;background-color: white;}#sk-39d3dfad-c462-4752-9935-c02f988b0e36 div.sk-parallel-item:first-child::after {align-self: flex-end;width: 50%;}#sk-39d3dfad-c462-4752-9935-c02f988b0e36 div.sk-parallel-item:last-child::after {align-self: flex-start;width: 50%;}#sk-39d3dfad-c462-4752-9935-c02f988b0e36 div.sk-parallel-item:only-child::after {width: 0;}#sk-39d3dfad-c462-4752-9935-c02f988b0e36 div.sk-dashed-wrapped {border: 1px dashed gray;margin: 0 0.4em 0.5em 0.4em;box-sizing: border-box;padding-bottom: 0.4em;background-color: white;position: relative;}#sk-39d3dfad-c462-4752-9935-c02f988b0e36 div.sk-label label {font-family: monospace;font-weight: bold;background-color: white;display: inline-block;line-height: 1.2em;}#sk-39d3dfad-c462-4752-9935-c02f988b0e36 div.sk-label-container {position: relative;z-index: 2;text-align: center;}#sk-39d3dfad-c462-4752-9935-c02f988b0e36 div.sk-container {display: inline-block;position: relative;}</style><div id=\"sk-39d3dfad-c462-4752-9935-c02f988b0e36\" class\"sk-top-container\"><div class=\"sk-container\"><div class=\"sk-item sk-dashed-wrapped\"><div class=\"sk-label-container\"><div class=\"sk-label sk-toggleable\"><input class=\"sk-toggleable__control sk-hidden--visually\" id=\"95cbc71a-3f7f-48cd-94cf-71ecc6814d8d\" type=\"checkbox\" ><label class=\"sk-toggleable__label\" for=\"95cbc71a-3f7f-48cd-94cf-71ecc6814d8d\">Pipeline</label><div class=\"sk-toggleable__content\"><pre>Pipeline(steps=[('preprocessor',\n",
       "                 ColumnTransformer(transformers=[('cat_scale',\n",
       "                                                  OneHotEncoder(handle_unknown='ignore'),\n",
       "                                                  Index(['Ship Mode', 'Segment', 'Country', 'City', 'State', 'Postal Code',\n",
       "       'Region', 'Category', 'Sub-Category'],\n",
       "      dtype='object')),\n",
       "                                                 ('num_scale', MinMaxScaler(),\n",
       "                                                  Index(['Sales', 'Quantity', 'Discount'], dtype='object'))])),\n",
       "                ('rf_model', RandomForestRegressor(random_state=42))],\n",
       "         verbose=1)</pre></div></div></div><div class=\"sk-serial\"><div class=\"sk-item sk-dashed-wrapped\"><div class=\"sk-label-container\"><div class=\"sk-label sk-toggleable\"><input class=\"sk-toggleable__control sk-hidden--visually\" id=\"d3322286-eac0-41d8-a64a-fb1a80524ace\" type=\"checkbox\" ><label class=\"sk-toggleable__label\" for=\"d3322286-eac0-41d8-a64a-fb1a80524ace\">preprocessor: ColumnTransformer</label><div class=\"sk-toggleable__content\"><pre>ColumnTransformer(transformers=[('cat_scale',\n",
       "                                 OneHotEncoder(handle_unknown='ignore'),\n",
       "                                 Index(['Ship Mode', 'Segment', 'Country', 'City', 'State', 'Postal Code',\n",
       "       'Region', 'Category', 'Sub-Category'],\n",
       "      dtype='object')),\n",
       "                                ('num_scale', MinMaxScaler(),\n",
       "                                 Index(['Sales', 'Quantity', 'Discount'], dtype='object'))])</pre></div></div></div><div class=\"sk-parallel\"><div class=\"sk-parallel-item\"><div class=\"sk-item\"><div class=\"sk-label-container\"><div class=\"sk-label sk-toggleable\"><input class=\"sk-toggleable__control sk-hidden--visually\" id=\"dfbb2948-a4d9-48fa-848f-4af158774370\" type=\"checkbox\" ><label class=\"sk-toggleable__label\" for=\"dfbb2948-a4d9-48fa-848f-4af158774370\">cat_scale</label><div class=\"sk-toggleable__content\"><pre>Index(['Ship Mode', 'Segment', 'Country', 'City', 'State', 'Postal Code',\n",
       "       'Region', 'Category', 'Sub-Category'],\n",
       "      dtype='object')</pre></div></div></div><div class=\"sk-serial\"><div class=\"sk-item\"><div class=\"sk-estimator sk-toggleable\"><input class=\"sk-toggleable__control sk-hidden--visually\" id=\"5f83b746-7532-4eec-a17b-c396053ff570\" type=\"checkbox\" ><label class=\"sk-toggleable__label\" for=\"5f83b746-7532-4eec-a17b-c396053ff570\">OneHotEncoder</label><div class=\"sk-toggleable__content\"><pre>OneHotEncoder(handle_unknown='ignore')</pre></div></div></div></div></div></div><div class=\"sk-parallel-item\"><div class=\"sk-item\"><div class=\"sk-label-container\"><div class=\"sk-label sk-toggleable\"><input class=\"sk-toggleable__control sk-hidden--visually\" id=\"d0bd90fe-ddc3-4044-8a43-90f57183ea5f\" type=\"checkbox\" ><label class=\"sk-toggleable__label\" for=\"d0bd90fe-ddc3-4044-8a43-90f57183ea5f\">num_scale</label><div class=\"sk-toggleable__content\"><pre>Index(['Sales', 'Quantity', 'Discount'], dtype='object')</pre></div></div></div><div class=\"sk-serial\"><div class=\"sk-item\"><div class=\"sk-estimator sk-toggleable\"><input class=\"sk-toggleable__control sk-hidden--visually\" id=\"bbe8c380-36af-4fa6-9138-d0a92630ab1b\" type=\"checkbox\" ><label class=\"sk-toggleable__label\" for=\"bbe8c380-36af-4fa6-9138-d0a92630ab1b\">MinMaxScaler</label><div class=\"sk-toggleable__content\"><pre>MinMaxScaler()</pre></div></div></div></div></div></div></div></div><div class=\"sk-item\"><div class=\"sk-estimator sk-toggleable\"><input class=\"sk-toggleable__control sk-hidden--visually\" id=\"f5a86471-e911-4903-8905-fa0a123304d5\" type=\"checkbox\" ><label class=\"sk-toggleable__label\" for=\"f5a86471-e911-4903-8905-fa0a123304d5\">RandomForestRegressor</label><div class=\"sk-toggleable__content\"><pre>RandomForestRegressor(random_state=42)</pre></div></div></div></div></div></div></div>"
      ],
      "text/plain": [
       "Pipeline(steps=[('preprocessor',\n",
       "                 ColumnTransformer(transformers=[('cat_scale',\n",
       "                                                  OneHotEncoder(handle_unknown='ignore'),\n",
       "                                                  Index(['Ship Mode', 'Segment', 'Country', 'City', 'State', 'Postal Code',\n",
       "       'Region', 'Category', 'Sub-Category'],\n",
       "      dtype='object')),\n",
       "                                                 ('num_scale', MinMaxScaler(),\n",
       "                                                  Index(['Sales', 'Quantity', 'Discount'], dtype='object'))])),\n",
       "                ('rf_model', RandomForestRegressor(random_state=42))],\n",
       "         verbose=1)"
      ]
     },
     "execution_count": 10,
     "metadata": {},
     "output_type": "execute_result"
    }
   ],
   "source": [
    "# todo: realizar GridSearch para encontrar melhor modelo\n",
    "rf_steps = [('preprocessor', preprocessor),\n",
    "        ('rf_model', RandomForestRegressor(random_state=42))]\n",
    "\n",
    "rf_model = Pipeline(steps=rf_steps, verbose=1)\n",
    "rf_model"
   ]
  },
  {
   "cell_type": "code",
   "execution_count": 11,
   "metadata": {},
   "outputs": [
    {
     "name": "stdout",
     "output_type": "stream",
     "text": [
      "[Pipeline] ...... (step 1 of 2) Processing preprocessor, total=   0.0s\n",
      "[Pipeline] .......... (step 2 of 2) Processing rf_model, total=  21.4s\n"
     ]
    },
    {
     "data": {
      "text/html": [
       "<style>#sk-6aae8594-4c7e-4e73-aeae-6ebc3e3365af {color: black;background-color: white;}#sk-6aae8594-4c7e-4e73-aeae-6ebc3e3365af pre{padding: 0;}#sk-6aae8594-4c7e-4e73-aeae-6ebc3e3365af div.sk-toggleable {background-color: white;}#sk-6aae8594-4c7e-4e73-aeae-6ebc3e3365af label.sk-toggleable__label {cursor: pointer;display: block;width: 100%;margin-bottom: 0;padding: 0.3em;box-sizing: border-box;text-align: center;}#sk-6aae8594-4c7e-4e73-aeae-6ebc3e3365af div.sk-toggleable__content {max-height: 0;max-width: 0;overflow: hidden;text-align: left;background-color: #f0f8ff;}#sk-6aae8594-4c7e-4e73-aeae-6ebc3e3365af div.sk-toggleable__content pre {margin: 0.2em;color: black;border-radius: 0.25em;background-color: #f0f8ff;}#sk-6aae8594-4c7e-4e73-aeae-6ebc3e3365af input.sk-toggleable__control:checked~div.sk-toggleable__content {max-height: 200px;max-width: 100%;overflow: auto;}#sk-6aae8594-4c7e-4e73-aeae-6ebc3e3365af div.sk-estimator input.sk-toggleable__control:checked~label.sk-toggleable__label {background-color: #d4ebff;}#sk-6aae8594-4c7e-4e73-aeae-6ebc3e3365af div.sk-label input.sk-toggleable__control:checked~label.sk-toggleable__label {background-color: #d4ebff;}#sk-6aae8594-4c7e-4e73-aeae-6ebc3e3365af input.sk-hidden--visually {border: 0;clip: rect(1px 1px 1px 1px);clip: rect(1px, 1px, 1px, 1px);height: 1px;margin: -1px;overflow: hidden;padding: 0;position: absolute;width: 1px;}#sk-6aae8594-4c7e-4e73-aeae-6ebc3e3365af div.sk-estimator {font-family: monospace;background-color: #f0f8ff;border: 1px dotted black;border-radius: 0.25em;box-sizing: border-box;margin-bottom: 0.5em;}#sk-6aae8594-4c7e-4e73-aeae-6ebc3e3365af div.sk-estimator:hover {background-color: #d4ebff;}#sk-6aae8594-4c7e-4e73-aeae-6ebc3e3365af div.sk-parallel-item::after {content: \"\";width: 100%;border-bottom: 1px solid gray;flex-grow: 1;}#sk-6aae8594-4c7e-4e73-aeae-6ebc3e3365af div.sk-label:hover label.sk-toggleable__label {background-color: #d4ebff;}#sk-6aae8594-4c7e-4e73-aeae-6ebc3e3365af div.sk-serial::before {content: \"\";position: absolute;border-left: 1px solid gray;box-sizing: border-box;top: 2em;bottom: 0;left: 50%;}#sk-6aae8594-4c7e-4e73-aeae-6ebc3e3365af div.sk-serial {display: flex;flex-direction: column;align-items: center;background-color: white;padding-right: 0.2em;padding-left: 0.2em;}#sk-6aae8594-4c7e-4e73-aeae-6ebc3e3365af div.sk-item {z-index: 1;}#sk-6aae8594-4c7e-4e73-aeae-6ebc3e3365af div.sk-parallel {display: flex;align-items: stretch;justify-content: center;background-color: white;}#sk-6aae8594-4c7e-4e73-aeae-6ebc3e3365af div.sk-parallel::before {content: \"\";position: absolute;border-left: 1px solid gray;box-sizing: border-box;top: 2em;bottom: 0;left: 50%;}#sk-6aae8594-4c7e-4e73-aeae-6ebc3e3365af div.sk-parallel-item {display: flex;flex-direction: column;position: relative;background-color: white;}#sk-6aae8594-4c7e-4e73-aeae-6ebc3e3365af div.sk-parallel-item:first-child::after {align-self: flex-end;width: 50%;}#sk-6aae8594-4c7e-4e73-aeae-6ebc3e3365af div.sk-parallel-item:last-child::after {align-self: flex-start;width: 50%;}#sk-6aae8594-4c7e-4e73-aeae-6ebc3e3365af div.sk-parallel-item:only-child::after {width: 0;}#sk-6aae8594-4c7e-4e73-aeae-6ebc3e3365af div.sk-dashed-wrapped {border: 1px dashed gray;margin: 0 0.4em 0.5em 0.4em;box-sizing: border-box;padding-bottom: 0.4em;background-color: white;position: relative;}#sk-6aae8594-4c7e-4e73-aeae-6ebc3e3365af div.sk-label label {font-family: monospace;font-weight: bold;background-color: white;display: inline-block;line-height: 1.2em;}#sk-6aae8594-4c7e-4e73-aeae-6ebc3e3365af div.sk-label-container {position: relative;z-index: 2;text-align: center;}#sk-6aae8594-4c7e-4e73-aeae-6ebc3e3365af div.sk-container {display: inline-block;position: relative;}</style><div id=\"sk-6aae8594-4c7e-4e73-aeae-6ebc3e3365af\" class\"sk-top-container\"><div class=\"sk-container\"><div class=\"sk-item sk-dashed-wrapped\"><div class=\"sk-label-container\"><div class=\"sk-label sk-toggleable\"><input class=\"sk-toggleable__control sk-hidden--visually\" id=\"84c2e862-3dfd-4f17-bdef-deea02f11547\" type=\"checkbox\" ><label class=\"sk-toggleable__label\" for=\"84c2e862-3dfd-4f17-bdef-deea02f11547\">Pipeline</label><div class=\"sk-toggleable__content\"><pre>Pipeline(steps=[('preprocessor',\n",
       "                 ColumnTransformer(transformers=[('cat_scale',\n",
       "                                                  OneHotEncoder(handle_unknown='ignore'),\n",
       "                                                  Index(['Ship Mode', 'Segment', 'Country', 'City', 'State', 'Postal Code',\n",
       "       'Region', 'Category', 'Sub-Category'],\n",
       "      dtype='object')),\n",
       "                                                 ('num_scale', MinMaxScaler(),\n",
       "                                                  Index(['Sales', 'Quantity', 'Discount'], dtype='object'))])),\n",
       "                ('rf_model', RandomForestRegressor(random_state=42))],\n",
       "         verbose=1)</pre></div></div></div><div class=\"sk-serial\"><div class=\"sk-item sk-dashed-wrapped\"><div class=\"sk-label-container\"><div class=\"sk-label sk-toggleable\"><input class=\"sk-toggleable__control sk-hidden--visually\" id=\"49228115-48bc-4ab3-a244-11c0e51cbebf\" type=\"checkbox\" ><label class=\"sk-toggleable__label\" for=\"49228115-48bc-4ab3-a244-11c0e51cbebf\">preprocessor: ColumnTransformer</label><div class=\"sk-toggleable__content\"><pre>ColumnTransformer(transformers=[('cat_scale',\n",
       "                                 OneHotEncoder(handle_unknown='ignore'),\n",
       "                                 Index(['Ship Mode', 'Segment', 'Country', 'City', 'State', 'Postal Code',\n",
       "       'Region', 'Category', 'Sub-Category'],\n",
       "      dtype='object')),\n",
       "                                ('num_scale', MinMaxScaler(),\n",
       "                                 Index(['Sales', 'Quantity', 'Discount'], dtype='object'))])</pre></div></div></div><div class=\"sk-parallel\"><div class=\"sk-parallel-item\"><div class=\"sk-item\"><div class=\"sk-label-container\"><div class=\"sk-label sk-toggleable\"><input class=\"sk-toggleable__control sk-hidden--visually\" id=\"255af4b7-5676-4e99-9159-57191ee9ad04\" type=\"checkbox\" ><label class=\"sk-toggleable__label\" for=\"255af4b7-5676-4e99-9159-57191ee9ad04\">cat_scale</label><div class=\"sk-toggleable__content\"><pre>Index(['Ship Mode', 'Segment', 'Country', 'City', 'State', 'Postal Code',\n",
       "       'Region', 'Category', 'Sub-Category'],\n",
       "      dtype='object')</pre></div></div></div><div class=\"sk-serial\"><div class=\"sk-item\"><div class=\"sk-estimator sk-toggleable\"><input class=\"sk-toggleable__control sk-hidden--visually\" id=\"493a68a4-bf65-4588-8df1-271e7af977a3\" type=\"checkbox\" ><label class=\"sk-toggleable__label\" for=\"493a68a4-bf65-4588-8df1-271e7af977a3\">OneHotEncoder</label><div class=\"sk-toggleable__content\"><pre>OneHotEncoder(handle_unknown='ignore')</pre></div></div></div></div></div></div><div class=\"sk-parallel-item\"><div class=\"sk-item\"><div class=\"sk-label-container\"><div class=\"sk-label sk-toggleable\"><input class=\"sk-toggleable__control sk-hidden--visually\" id=\"489f1a24-58e2-4479-99f9-3578874224d5\" type=\"checkbox\" ><label class=\"sk-toggleable__label\" for=\"489f1a24-58e2-4479-99f9-3578874224d5\">num_scale</label><div class=\"sk-toggleable__content\"><pre>Index(['Sales', 'Quantity', 'Discount'], dtype='object')</pre></div></div></div><div class=\"sk-serial\"><div class=\"sk-item\"><div class=\"sk-estimator sk-toggleable\"><input class=\"sk-toggleable__control sk-hidden--visually\" id=\"104e8a48-fc51-4798-916e-42bab873d3e2\" type=\"checkbox\" ><label class=\"sk-toggleable__label\" for=\"104e8a48-fc51-4798-916e-42bab873d3e2\">MinMaxScaler</label><div class=\"sk-toggleable__content\"><pre>MinMaxScaler()</pre></div></div></div></div></div></div></div></div><div class=\"sk-item\"><div class=\"sk-estimator sk-toggleable\"><input class=\"sk-toggleable__control sk-hidden--visually\" id=\"6f26251a-aac4-411e-982d-eda7d02419f7\" type=\"checkbox\" ><label class=\"sk-toggleable__label\" for=\"6f26251a-aac4-411e-982d-eda7d02419f7\">RandomForestRegressor</label><div class=\"sk-toggleable__content\"><pre>RandomForestRegressor(random_state=42)</pre></div></div></div></div></div></div></div>"
      ],
      "text/plain": [
       "Pipeline(steps=[('preprocessor',\n",
       "                 ColumnTransformer(transformers=[('cat_scale',\n",
       "                                                  OneHotEncoder(handle_unknown='ignore'),\n",
       "                                                  Index(['Ship Mode', 'Segment', 'Country', 'City', 'State', 'Postal Code',\n",
       "       'Region', 'Category', 'Sub-Category'],\n",
       "      dtype='object')),\n",
       "                                                 ('num_scale', MinMaxScaler(),\n",
       "                                                  Index(['Sales', 'Quantity', 'Discount'], dtype='object'))])),\n",
       "                ('rf_model', RandomForestRegressor(random_state=42))],\n",
       "         verbose=1)"
      ]
     },
     "execution_count": 11,
     "metadata": {},
     "output_type": "execute_result"
    }
   ],
   "source": [
    "rf_model.fit(x_train, y_train)"
   ]
  },
  {
   "cell_type": "code",
   "execution_count": 12,
   "metadata": {},
   "outputs": [],
   "source": [
    "y_pred = rf_model.predict(x_test)"
   ]
  },
  {
   "cell_type": "code",
   "execution_count": 15,
   "metadata": {},
   "outputs": [
    {
     "name": "stdout",
     "output_type": "stream",
     "text": [
      "Mean Absolute Error (MAE): 25.893921115371793\n",
      "Mean Squared Error (MSE): 41168.526416329165\n",
      "Root Mean Squared Error (RMSE): 202.9002868808449\n",
      "Mean Absolute Percentage Error (MAPE): 1126639767620087.8\n"
     ]
    }
   ],
   "source": [
    "print('Mean Absolute Error (MAE):', mean_absolute_error(y_test, y_pred))\n",
    "print('Mean Squared Error (MSE):', mean_squared_error(y_test, y_pred))\n",
    "print('Root Mean Squared Error (RMSE):', np.sqrt(mean_squared_error(y_test, y_pred)))\n",
    "print('Mean Absolute Percentage Error (MAPE):', mean_absolute_percentage_error(y_test, y_pred))"
   ]
  },
  {
   "cell_type": "code",
   "execution_count": 16,
   "metadata": {},
   "outputs": [],
   "source": [
    "file_name = \"../models/model_v0.pkl\"\n",
    "pickle.dump(rf_model, open(file_name, \"wb\"))"
   ]
  },
  {
   "cell_type": "code",
   "execution_count": null,
   "metadata": {},
   "outputs": [],
   "source": []
  }
 ],
 "metadata": {
  "interpreter": {
   "hash": "2fb0f3cc85ff90d0e6b8d2e87ab38dc39031aadfd2204957fe99b82014522c30"
  },
  "kernelspec": {
   "display_name": "Python 3.9.7 64-bit ('.venv-notebook': venv)",
   "language": "python",
   "name": "python3"
  },
  "language_info": {
   "codemirror_mode": {
    "name": "ipython",
    "version": 3
   },
   "file_extension": ".py",
   "mimetype": "text/x-python",
   "name": "python",
   "nbconvert_exporter": "python",
   "pygments_lexer": "ipython3",
   "version": "3.9.7"
  },
  "orig_nbformat": 4
 },
 "nbformat": 4,
 "nbformat_minor": 2
}
